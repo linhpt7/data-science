{
 "cells": [
  {
   "cell_type": "markdown",
   "id": "94179a41-63d0-4378-8433-6ef89d054a58",
   "metadata": {},
   "source": [
    "JupyterLab allows writing SQL query directly in-cell, thanks to the `%sparksql` magic command (use two percent signs `%%sparksql` to span code in multiple lines). An amazing feature is that PySpark can also interacts with this enviroment. This means all local files can be read as Hive tables."
   ]
  },
  {
   "cell_type": "code",
   "execution_count": 1,
   "id": "a302ccd3-92cd-476f-87f5-b69b8e120e99",
   "metadata": {
    "tags": []
   },
   "outputs": [],
   "source": [
    "import findspark\n",
    "from pyspark.sql import SparkSession\n",
    "spark = SparkSession.builder.master('local').enableHiveSupport().getOrCreate()\n",
    "spark.conf.set('spark.sql.repl.eagerEval.enabled', True)\n",
    "spark.conf.set('spark.sql.repl.eagerEval.truncate', 80)\n",
    "spark.conf.set('spark.sql.repl.eagerEval.maxNumRows', 20)\n",
    "\n",
    "import pyspark.sql.functions as F\n",
    "import pyspark.sql.types as T"
   ]
  },
  {
   "cell_type": "code",
   "execution_count": 2,
   "id": "f752b6be-ab7c-448e-a961-aca186aea0a5",
   "metadata": {
    "tags": []
   },
   "outputs": [],
   "source": [
    "%load_ext sparksql_magic"
   ]
  },
  {
   "cell_type": "code",
   "execution_count": 3,
   "id": "7f63df25-8896-4cd6-9dfb-8b60c3c2a8f0",
   "metadata": {},
   "outputs": [],
   "source": [
    "%config SparkSql.limit=20"
   ]
  },
  {
   "cell_type": "markdown",
   "id": "0bae05da-5a21-479f-a657-55cb8f1a44cd",
   "metadata": {},
   "source": [
    "# 1. Managing tables"
   ]
  },
  {
   "cell_type": "markdown",
   "id": "0cb8cfa0-751a-4550-bd78-7c674d539e24",
   "metadata": {},
   "source": [
    "## 1.1. Creating tables"
   ]
  },
  {
   "cell_type": "markdown",
   "id": "6a72c26f-bfe0-4fc5-ad4b-feaa2509868c",
   "metadata": {},
   "source": [
    "#### Manually creating tables"
   ]
  },
  {
   "cell_type": "code",
   "execution_count": 7,
   "id": "061d3c27-ec86-4cb5-87eb-122fdcdfc85b",
   "metadata": {
    "tags": []
   },
   "outputs": [
    {
     "data": {
      "text/html": [
       "<table><tr style=\"border-bottom: 1px solid\"></tr></table>"
      ],
      "text/plain": [
       "<IPython.core.display.HTML object>"
      ]
     },
     "execution_count": 7,
     "metadata": {},
     "output_type": "execute_result"
    }
   ],
   "source": [
    "%%sparksql\n",
    "\n",
    "CREATE EXTERNAL TABLE IF NOT EXISTS tbl_product\n",
    "STORED AS PARQUET\n",
    "LOCATION 'spark_db/tbl_product'\n",
    "TBLPROPERTIES ('parquet.compression'='snappy')\n",
    "\n",
    "SELECT *\n",
    "FROM VALUES\n",
    "    ('Laptop', 1000, 15),\n",
    "    ('Mouse', 20, 100),\n",
    "    ('Headphone', 50, 50),\n",
    "    ('USB', NULL, 100)\n",
    "AS (product, price, stock)"
   ]
  },
  {
   "cell_type": "markdown",
   "id": "8d81b245-61f5-4bc3-925b-d560bf04c487",
   "metadata": {},
   "source": [
    "#### Metadata\n",
    "\n",
    "|Statement|Usage|\n",
    "|:--|:--|\n",
    "|`DESC <table_name>`|Show columns and comments of a table|\n",
    "|`DESC FORMATTED <table_name>`|Show detailed information of a table|\n",
    "|`SHOW CREATE TABLE <table_name>`|Get the script that created the table|\n",
    "|`DROP TABLE IF EXISTS <table_name>`|Drop a table|\n",
    "|`SHOW DATABASES`|Show all available databases|\n",
    "|`DESC DATABASE EXTENDED <database_name>`|Show information about a database|\n",
    "|`USE <database_name>`|Enter a specific database|\n",
    "|`SHOW TABLES`|Show all available tables and view|\n",
    "|`SHOW TABLES LIKE <pattern>`| Show all tables having a specific pattern in their name|"
   ]
  },
  {
   "cell_type": "code",
   "execution_count": 8,
   "id": "6e0b1e2d-f586-46a5-a615-52d65aee7136",
   "metadata": {
    "tags": []
   },
   "outputs": [
    {
     "data": {
      "text/html": [
       "<table><tr style=\"border-bottom: 1px solid\"><td style=\"font-weight: bold\">col_name</td><td style=\"font-weight: bold\">data_type</td><td style=\"font-weight: bold\">comment</td></tr><tr><td>product</td><td>string</td><td>null</td></tr><tr><td>price</td><td>int</td><td>null</td></tr><tr><td>stock</td><td>int</td><td>null</td></tr></table>"
      ],
      "text/plain": [
       "<IPython.core.display.HTML object>"
      ]
     },
     "execution_count": 8,
     "metadata": {},
     "output_type": "execute_result"
    }
   ],
   "source": [
    "%%sparksql\n",
    "\n",
    "DESC tbl_product"
   ]
  },
  {
   "cell_type": "code",
   "execution_count": 9,
   "id": "11161110-d3a2-424f-8cee-efc7cd44e6c8",
   "metadata": {},
   "outputs": [
    {
     "data": {
      "text/html": [
       "<table><tr style=\"border-bottom: 1px solid\"><td style=\"font-weight: bold\">database</td><td style=\"font-weight: bold\">tableName</td><td style=\"font-weight: bold\">isTemporary</td></tr><tr><td>default</td><td>tbl_product</td><td>False</td></tr></table>"
      ],
      "text/plain": [
       "<IPython.core.display.HTML object>"
      ]
     },
     "execution_count": 9,
     "metadata": {},
     "output_type": "execute_result"
    }
   ],
   "source": [
    "%%sparksql\n",
    "\n",
    "SHOW TABLES LIKE '*product*'"
   ]
  },
  {
   "cell_type": "code",
   "execution_count": 10,
   "id": "ff92ecfd-9bf6-44d3-a154-07d1c729aeeb",
   "metadata": {
    "tags": []
   },
   "outputs": [
    {
     "data": {
      "text/html": [
       "<table><tr style=\"border-bottom: 1px solid\"></tr></table>"
      ],
      "text/plain": [
       "<IPython.core.display.HTML object>"
      ]
     },
     "execution_count": 10,
     "metadata": {},
     "output_type": "execute_result"
    }
   ],
   "source": [
    "%%sparksql\n",
    "\n",
    "ALTER TABLE tbl_product SET TBLPROPERTIES('external'='false', 'auto.purge'='true')"
   ]
  },
  {
   "cell_type": "code",
   "execution_count": 11,
   "id": "5f691b99-6ea0-4822-8a84-01d91821ee40",
   "metadata": {},
   "outputs": [
    {
     "data": {
      "text/html": [
       "<table><tr style=\"border-bottom: 1px solid\"></tr></table>"
      ],
      "text/plain": [
       "<IPython.core.display.HTML object>"
      ]
     },
     "execution_count": 11,
     "metadata": {},
     "output_type": "execute_result"
    }
   ],
   "source": [
    "%%sparksql\n",
    "\n",
    "DROP TABLE IF EXISTS tbl_product"
   ]
  },
  {
   "cell_type": "markdown",
   "id": "077f4aa2-5c85-4cdf-8468-d9c91f418e1a",
   "metadata": {},
   "source": [
    "#### Partitioning\n",
    "A unique feature of SparkSQL is organizing tables in partitions, which helps achieve more parallelism. A categorical column or two may be used as partition columns. Data can be inserted to a partition using `INSERT INTO TABLE` or `INSERT OVERWRITE TABLE`."
   ]
  },
  {
   "cell_type": "code",
   "execution_count": 10,
   "id": "32cae013-2b06-4e40-bff1-800eaaf949ec",
   "metadata": {},
   "outputs": [
    {
     "data": {
      "text/html": [
       "<table><tr style=\"border-bottom: 1px solid\"></tr></table>"
      ],
      "text/plain": [
       "<IPython.core.display.HTML object>"
      ]
     },
     "execution_count": 10,
     "metadata": {},
     "output_type": "execute_result"
    }
   ],
   "source": [
    "%%sparksql\n",
    "\n",
    "CREATE TABLE IF NOT EXISTS tbl_product (\n",
    "    product STRING COMMENT 'name of product',\n",
    "    price INT COMMENT 'price of product',\n",
    "    stock INT COMMENT 'number of products left'\n",
    ")\n",
    "PARTITIONED BY (day STRING COMMENT 'day', hour STRING COMMENT 'hour')\n",
    "STORED AS PARQUET\n",
    "LOCATION 'spark_db/tbl_product'\n",
    "TBLPROPERTIES ('parquet.compression'='snappy')"
   ]
  },
  {
   "cell_type": "code",
   "execution_count": 11,
   "id": "61c6ebc0-f4ec-4095-995e-12ad5fd0319b",
   "metadata": {
    "tags": []
   },
   "outputs": [
    {
     "data": {
      "text/html": [
       "<table><tr style=\"border-bottom: 1px solid\"></tr></table>"
      ],
      "text/plain": [
       "<IPython.core.display.HTML object>"
      ]
     },
     "execution_count": 11,
     "metadata": {},
     "output_type": "execute_result"
    }
   ],
   "source": [
    "%%sparksql\n",
    "\n",
    "INSERT OVERWRITE TABLE tbl_product\n",
    "PARTITION (day=20210725, hour=14)\n",
    "VALUES\n",
    "    ('Laptop', 1000, 25),\n",
    "    ('Mouse', 30, 100),\n",
    "    ('Headphone', 50, 50)"
   ]
  },
  {
   "cell_type": "code",
   "execution_count": 12,
   "id": "021bc6be-0b32-4bfb-a0b0-489d110ef39a",
   "metadata": {
    "tags": []
   },
   "outputs": [
    {
     "data": {
      "text/html": [
       "<table><tr style=\"border-bottom: 1px solid\"></tr></table>"
      ],
      "text/plain": [
       "<IPython.core.display.HTML object>"
      ]
     },
     "execution_count": 12,
     "metadata": {},
     "output_type": "execute_result"
    }
   ],
   "source": [
    "%%sparksql\n",
    "\n",
    "INSERT INTO TABLE tbl_product\n",
    "PARTITION (day=20210725, hour=21)\n",
    "VALUES\n",
    "    ('Laptop', 1000, 20),\n",
    "    ('Mouse', 20, 97),\n",
    "    ('Headphone', 65, 12)"
   ]
  },
  {
   "cell_type": "code",
   "execution_count": 13,
   "id": "953ca4ce-12ab-4571-9df7-418c1ea866b1",
   "metadata": {},
   "outputs": [
    {
     "data": {
      "text/html": [
       "<table><tr style=\"border-bottom: 1px solid\"><td style=\"font-weight: bold\">partition</td></tr><tr><td>day=20210725/hour=14</td></tr><tr><td>day=20210725/hour=21</td></tr></table>"
      ],
      "text/plain": [
       "<IPython.core.display.HTML object>"
      ]
     },
     "execution_count": 13,
     "metadata": {},
     "output_type": "execute_result"
    }
   ],
   "source": [
    "%%sparksql\n",
    "\n",
    "SHOW PARTITIONS tbl_product"
   ]
  },
  {
   "cell_type": "code",
   "execution_count": 14,
   "id": "cc503ab0-f36f-4aef-a51a-9474da87c0d7",
   "metadata": {},
   "outputs": [
    {
     "data": {
      "text/html": [
       "<table><tr style=\"border-bottom: 1px solid\"></tr></table>"
      ],
      "text/plain": [
       "<IPython.core.display.HTML object>"
      ]
     },
     "execution_count": 14,
     "metadata": {},
     "output_type": "execute_result"
    }
   ],
   "source": [
    "%%sparksql\n",
    "\n",
    "ALTER TABLE tbl_product DROP IF EXISTS PARTITION (day=20210725)"
   ]
  },
  {
   "cell_type": "markdown",
   "id": "956ec8ac-f34f-426d-80ec-7c16a71de8fb",
   "metadata": {},
   "source": [
    "## 1.2. Importing local files"
   ]
  },
  {
   "cell_type": "code",
   "execution_count": 9,
   "id": "c33e84ce-d0c5-4736-bceb-73b22a4d99ba",
   "metadata": {
    "tags": []
   },
   "outputs": [],
   "source": [
    "df = spark.read.csv('data/youtube_trending.csv', header=True, inferSchema=True)\n",
    "\n",
    "df\\\n",
    "    .write.format('parquet')\\\n",
    "    .option('compression', 'snappy')\\\n",
    "    .mode('overwrite').saveAsTable('tbl_youtube')"
   ]
  },
  {
   "cell_type": "code",
   "execution_count": 10,
   "id": "edb308b9-6b6a-40e2-ab63-8cd6dbbfd91a",
   "metadata": {
    "tags": []
   },
   "outputs": [
    {
     "data": {
      "text/html": [
       "<table><tr style=\"border-bottom: 1px solid\"><td style=\"font-weight: bold\">video_id</td><td style=\"font-weight: bold\">trending_date</td><td style=\"font-weight: bold\">channel_title</td><td style=\"font-weight: bold\">category_id</td><td style=\"font-weight: bold\">publish_time</td><td style=\"font-weight: bold\">views</td><td style=\"font-weight: bold\">likes</td><td style=\"font-weight: bold\">dislikes</td><td style=\"font-weight: bold\">comment_count</td><td style=\"font-weight: bold\">comments_disabled</td><td style=\"font-weight: bold\">ratings_disabled</td></tr><tr><td>2kyS6SvSYSE</td><td>2017-11-14</td><td>CaseyNeistat</td><td>22</td><td>2017-11-14 00:13:01</td><td>748374</td><td>57527</td><td>2966</td><td>15954</td><td>False</td><td>False</td></tr><tr><td>1ZAPwfrtAFY</td><td>2017-11-14</td><td>LastWeekTonight</td><td>24</td><td>2017-11-13 14:30:00</td><td>2418783</td><td>97185</td><td>6146</td><td>12703</td><td>False</td><td>False</td></tr><tr><td>5qpjK5DgCt4</td><td>2017-11-14</td><td>Rudy Mancuso</td><td>23</td><td>2017-11-13 02:05:24</td><td>3191434</td><td>146033</td><td>5339</td><td>8181</td><td>False</td><td>False</td></tr><tr><td>puqaWrEC7tY</td><td>2017-11-14</td><td>Good Mythical Morning</td><td>24</td><td>2017-11-13 18:00:04</td><td>343168</td><td>10172</td><td>666</td><td>2146</td><td>False</td><td>False</td></tr><tr><td>d380meD0W0M</td><td>2017-11-14</td><td>nigahiga</td><td>24</td><td>2017-11-13 01:01:41</td><td>2095731</td><td>132235</td><td>1989</td><td>17518</td><td>False</td><td>False</td></tr></table>"
      ],
      "text/plain": [
       "<IPython.core.display.HTML object>"
      ]
     },
     "execution_count": 10,
     "metadata": {},
     "output_type": "execute_result"
    }
   ],
   "source": [
    "%%sparksql\n",
    "\n",
    "SELECT * FROM tbl_youtube LIMIT 5"
   ]
  },
  {
   "cell_type": "markdown",
   "id": "2b3cc2c5-418a-4380-94f0-b628302a5d13",
   "metadata": {},
   "source": [
    "## 1.3. Hive data types\n",
    "\n",
    "|Data type|Types|Range\n",
    "|:--|:--|:--\n",
    "|Numeric|`TINYINT`|1-byte signed integer, from -128 to 127\n",
    "||`SMALLINT`|2-byte signed integer, from -32,768 to 32,767\n",
    "||`INTEGER`|4-byte signed integer, from -2,147,483,648 to 2,147,483,647\n",
    "||`BIGINT`|8-byte signed integer, from -9,223,372,036,854,775,808 to 9,223,372,036,854,775,807\n",
    "||`FLOAT`|4-byte single precision floating point number\n",
    "||`DOUBLE`|8-byte double precision floating point number\n",
    "||`DECIMAL`|a precision of 38 digits\n",
    "||`NUMERIC`|same as `DECIMAL`, starting with Hive 3.0.0\n",
    "|String|`VARCHAR`|Only available starting with Hive 0.12.0\n",
    "||`CHAR`|Only available starting with Hive 0.13.0\n",
    "|Datetime|`TIMESTAMP`|\n",
    "||`DATE`|\n",
    "||`INTERVAL`|\n",
    "|Misc|`BOOLEAN`|\n",
    "||`BINARY`|\n",
    "|Complex|`ARRAY`|\n",
    "||`MAP`|\n",
    "||`STRUCT`|\n",
    "||`UNIONTYPE`|"
   ]
  },
  {
   "cell_type": "code",
   "execution_count": 13,
   "id": "df7b1ecb-c050-41a3-9011-8ff1cb9355f5",
   "metadata": {},
   "outputs": [
    {
     "data": {
      "text/html": [
       "<table><tr style=\"border-bottom: 1px solid\"><td style=\"font-weight: bold\">video_id</td><td style=\"font-weight: bold\">trending_date</td><td style=\"font-weight: bold\">channel_title</td><td style=\"font-weight: bold\">category_id</td><td style=\"font-weight: bold\">publish_time</td><td style=\"font-weight: bold\">views</td><td style=\"font-weight: bold\">likes</td><td style=\"font-weight: bold\">dislikes</td><td style=\"font-weight: bold\">comment_count</td><td style=\"font-weight: bold\">comments_disabled</td><td style=\"font-weight: bold\">ratings_disabled</td></tr><tr><td>2kyS6SvSYSE</td><td>2017-11-14</td><td>CaseyNeistat</td><td>22</td><td>2017-11-14 00:13:01</td><td>748374</td><td>57527</td><td>2966</td><td>15954</td><td>False</td><td>False</td></tr><tr><td>1ZAPwfrtAFY</td><td>2017-11-14</td><td>LastWeekTonight</td><td>24</td><td>2017-11-13 14:30:00</td><td>2418783</td><td>97185</td><td>6146</td><td>12703</td><td>False</td><td>False</td></tr><tr><td>5qpjK5DgCt4</td><td>2017-11-14</td><td>Rudy Mancuso</td><td>23</td><td>2017-11-13 02:05:24</td><td>3191434</td><td>146033</td><td>5339</td><td>8181</td><td>False</td><td>False</td></tr></table>"
      ],
      "text/plain": [
       "<IPython.core.display.HTML object>"
      ]
     },
     "execution_count": 13,
     "metadata": {},
     "output_type": "execute_result"
    }
   ],
   "source": [
    "%%sparksql\n",
    "\n",
    "SELECT * FROM tbl_youtube LIMIT 3"
   ]
  },
  {
   "cell_type": "code",
   "execution_count": 11,
   "id": "69513f7c-a27b-4afb-a330-c8eec0e2452c",
   "metadata": {},
   "outputs": [
    {
     "data": {
      "text/html": [
       "<table><tr style=\"border-bottom: 1px solid\"><td style=\"font-weight: bold\">col_name</td><td style=\"font-weight: bold\">data_type</td><td style=\"font-weight: bold\">comment</td></tr><tr><td>video_id</td><td>string</td><td>null</td></tr><tr><td>trending_date</td><td>string</td><td>null</td></tr><tr><td>channel_title</td><td>string</td><td>null</td></tr><tr><td>category_id</td><td>int</td><td>null</td></tr><tr><td>publish_time</td><td>timestamp</td><td>null</td></tr><tr><td>views</td><td>int</td><td>null</td></tr><tr><td>likes</td><td>int</td><td>null</td></tr><tr><td>dislikes</td><td>int</td><td>null</td></tr><tr><td>comment_count</td><td>int</td><td>null</td></tr><tr><td>comments_disabled</td><td>boolean</td><td>null</td></tr><tr><td>ratings_disabled</td><td>boolean</td><td>null</td></tr></table>"
      ],
      "text/plain": [
       "<IPython.core.display.HTML object>"
      ]
     },
     "execution_count": 11,
     "metadata": {},
     "output_type": "execute_result"
    }
   ],
   "source": [
    "%%sparksql\n",
    "\n",
    "DESC tbl_youtube"
   ]
  },
  {
   "cell_type": "markdown",
   "id": "b309a0d0-433a-4cb0-924c-62f7bb789f4e",
   "metadata": {},
   "source": [
    "In Hive, using `CAST` function to convert between data types. "
   ]
  },
  {
   "cell_type": "code",
   "execution_count": 34,
   "id": "e8531e6e-6af4-40e3-a6e5-eb9dde7e0a6b",
   "metadata": {},
   "outputs": [
    {
     "data": {
      "text/html": [
       "<table><tr style=\"border-bottom: 1px solid\"><td style=\"font-weight: bold\">category_id</td><td style=\"font-weight: bold\">views</td><td style=\"font-weight: bold\">comments_disabled</td><td style=\"font-weight: bold\">float_cat_id</td><td style=\"font-weight: bold\">bigint_views</td><td style=\"font-weight: bold\">date</td><td style=\"font-weight: bold\">int_comments_disabled</td></tr><tr><td>22</td><td>748374</td><td>False</td><td>22.0</td><td>748374</td><td>2017-11-14</td><td>0</td></tr><tr><td>24</td><td>2418783</td><td>False</td><td>24.0</td><td>2418783</td><td>2017-11-14</td><td>0</td></tr><tr><td>23</td><td>3191434</td><td>False</td><td>23.0</td><td>3191434</td><td>2017-11-14</td><td>0</td></tr></table>"
      ],
      "text/plain": [
       "<IPython.core.display.HTML object>"
      ]
     },
     "execution_count": 34,
     "metadata": {},
     "output_type": "execute_result"
    }
   ],
   "source": [
    "%%sparksql\n",
    "\n",
    "SELECT  category_id, views, comments_disabled,\n",
    "        CAST(category_id AS FLOAT) AS float_cat_id,\n",
    "        CAST(views AS BIGINT) AS bigint_views,\n",
    "        CAST(trending_date AS DATE) AS date,\n",
    "        CAST(comments_disabled AS INT) AS int_comments_disabled\n",
    "FROM tbl_youtube LIMIT 3"
   ]
  },
  {
   "cell_type": "markdown",
   "id": "b42f5041-ee60-42e3-abbb-63fba52df959",
   "metadata": {},
   "source": [
    "With datetime, we can user both `CAST` or `DATE`/`TO_DATE` to convert string to datetime. Different between date and to_date is `date` can only user with format *yyyy-MM-dd* but `to_date` can add format parameter to fit with the input\n",
    "\n",
    "*All the datetime functions in hive:* [Datetime functions](https://sparkbyexamples.com/apache-hive/hive-date-and-timestamp-functions-examples/)"
   ]
  },
  {
   "cell_type": "code",
   "execution_count": 87,
   "id": "a709dcd3-9cf4-46fa-83ef-a9f9ec850f50",
   "metadata": {},
   "outputs": [
    {
     "data": {
      "text/html": [
       "<table><tr style=\"border-bottom: 1px solid\"><td style=\"font-weight: bold\">date</td><td style=\"font-weight: bold\">date1</td><td style=\"font-weight: bold\">date2</td><td style=\"font-weight: bold\">today</td><td style=\"font-weight: bold\">today1</td></tr><tr><td>2021-08-10</td><td>null</td><td>2021-08-10</td><td>2021-11-05</td><td>2021-11-05</td></tr></table>"
      ],
      "text/plain": [
       "<IPython.core.display.HTML object>"
      ]
     },
     "execution_count": 87,
     "metadata": {},
     "output_type": "execute_result"
    }
   ],
   "source": [
    "%%sparksql\n",
    "\n",
    "SELECT  CAST('2021-08-10' AS DATE) date,\n",
    "        DATE('2021/08/10') date1,\n",
    "        TO_DATE('2021/08/10', 'yyyy/MM/dd') as date2,\n",
    "        CAST(date_format(current_date(),'yyyy-MM-dd') as date) today,\n",
    "        DATE(now()) as today1"
   ]
  },
  {
   "cell_type": "code",
   "execution_count": 59,
   "id": "16c1fc5b-b602-4954-9961-9c243434d8d2",
   "metadata": {},
   "outputs": [
    {
     "data": {
      "text/html": [
       "<table><tr style=\"border-bottom: 1px solid\"><td style=\"font-weight: bold\">publish_time</td><td style=\"font-weight: bold\">unix_publish_time</td><td style=\"font-weight: bold\">convert_publish_time</td></tr><tr><td>2017-11-14 00:13:01</td><td>1510593181</td><td>2017/11/14 00.13.01</td></tr><tr><td>2017-11-13 14:30:00</td><td>1510558200</td><td>2017/11/13 14.30.00</td></tr><tr><td>2017-11-13 02:05:24</td><td>1510513524</td><td>2017/11/13 02.05.24</td></tr></table>"
      ],
      "text/plain": [
       "<IPython.core.display.HTML object>"
      ]
     },
     "execution_count": 59,
     "metadata": {},
     "output_type": "execute_result"
    }
   ],
   "source": [
    "%%sparksql\n",
    "\n",
    "SELECT  publish_time,\n",
    "        UNIX_TIMESTAMP(publish_time) AS unix_publish_time,\n",
    "        FROM_UNIXTIME(UNIX_TIMESTAMP(publish_time),'yyyy/MM/dd HH.mm.ss') AS convert_publish_time\n",
    "FROM tbl_youtube LIMIT 3"
   ]
  },
  {
   "cell_type": "code",
   "execution_count": 83,
   "id": "f89cc490-0297-4a8a-abd9-b69d75c65662",
   "metadata": {},
   "outputs": [
    {
     "data": {
      "text/html": [
       "<table><tr style=\"border-bottom: 1px solid\"><td style=\"font-weight: bold\">tomorrow</td><td style=\"font-weight: bold\">two_days_ago</td><td style=\"font-weight: bold\">next_week</td><td style=\"font-weight: bold\">two_months_ago</td><td style=\"font-weight: bold\">two_hours_ago</td></tr><tr><td>2021-11-06</td><td>2021-11-07</td><td>2021-11-12</td><td>2021-09-05</td><td>2021-11-05 08:19:37.611000</td></tr></table>"
      ],
      "text/plain": [
       "<IPython.core.display.HTML object>"
      ]
     },
     "execution_count": 83,
     "metadata": {},
     "output_type": "execute_result"
    }
   ],
   "source": [
    "%%sparksql\n",
    "\n",
    "SELECT  current_date() + interval '1' day AS tomorrow,\n",
    "        current_date() + interval '2' days AS two_days_ago,\n",
    "        current_date() + interval '1' week AS next_week,\n",
    "        current_date() - interval '2' months AS two_months_ago,\n",
    "        current_timestamp() - interval '2' hours AS two_hours_ago"
   ]
  },
  {
   "cell_type": "code",
   "execution_count": 107,
   "id": "92e10494-e376-4566-a3a5-f1629d92622d",
   "metadata": {},
   "outputs": [
    {
     "data": {
      "text/html": [
       "<table><tr style=\"border-bottom: 1px solid\"><td style=\"font-weight: bold\">publish_time</td><td style=\"font-weight: bold\">publish_date</td><td style=\"font-weight: bold\">publish_year</td><td style=\"font-weight: bold\">publish_month</td><td style=\"font-weight: bold\">publish_week</td><td style=\"font-weight: bold\">publish_quarter</td><td style=\"font-weight: bold\">publish_hour</td><td style=\"font-weight: bold\">publish_firstday_of_month</td><td style=\"font-weight: bold\">publish_dayofweek</td><td style=\"font-weight: bold\">publish_date_format</td></tr><tr><td>2017-11-14 00:13:01</td><td>2017-11-14</td><td>2017</td><td>11</td><td>46</td><td>4</td><td>0</td><td>2017-11-01</td><td>3</td><td>14.11.2017</td></tr><tr><td>2017-11-13 14:30:00</td><td>2017-11-13</td><td>2017</td><td>11</td><td>46</td><td>4</td><td>14</td><td>2017-11-01</td><td>2</td><td>13.11.2017</td></tr><tr><td>2017-11-13 02:05:24</td><td>2017-11-13</td><td>2017</td><td>11</td><td>46</td><td>4</td><td>2</td><td>2017-11-01</td><td>2</td><td>13.11.2017</td></tr></table>"
      ],
      "text/plain": [
       "<IPython.core.display.HTML object>"
      ]
     },
     "execution_count": 107,
     "metadata": {},
     "output_type": "execute_result"
    }
   ],
   "source": [
    "%%sparksql\n",
    "\n",
    "SELECT  publish_time,\n",
    "        DATE(publish_time) AS publish_date,\n",
    "        YEAR(publish_time) AS publish_year,\n",
    "        MONTH(publish_time) AS publish_month,\n",
    "        WEEKOFYEAR(publish_time) AS publish_week,\n",
    "        QUARTER(publish_time) AS publish_quarter,\n",
    "        HOUR(publish_time) AS publish_hour,\n",
    "        TRUNC(CAST(publish_time AS STRING), 'MM') AS publish_firstday_of_month,\n",
    "        EXTRACT(dayofweek from publish_time) AS publish_dayofweek,\n",
    "        DATE_FORMAT(publish_time, 'dd.MM.yyyy') AS publish_date_format\n",
    "\n",
    "FROM tbl_youtube\n",
    "LIMIT 3"
   ]
  },
  {
   "cell_type": "code",
   "execution_count": 106,
   "id": "e1ab11ca-3a52-4e5a-bb87-711c8546c0e2",
   "metadata": {},
   "outputs": [
    {
     "data": {
      "text/html": [
       "<table><tr style=\"border-bottom: 1px solid\"><td style=\"font-weight: bold\">publish_time</td><td style=\"font-weight: bold\">trending_date</td><td style=\"font-weight: bold\">date_add</td><td style=\"font-weight: bold\">date_diff</td></tr><tr><td>2017-11-14 00:13:01</td><td>2017-11-14</td><td>2017-11-16</td><td>0</td></tr><tr><td>2017-11-13 14:30:00</td><td>2017-11-14</td><td>2017-11-15</td><td>1</td></tr><tr><td>2017-11-13 02:05:24</td><td>2017-11-14</td><td>2017-11-15</td><td>1</td></tr></table>"
      ],
      "text/plain": [
       "<IPython.core.display.HTML object>"
      ]
     },
     "execution_count": 106,
     "metadata": {},
     "output_type": "execute_result"
    }
   ],
   "source": [
    "%%sparksql\n",
    "\n",
    "SELECT  publish_time, trending_date,\n",
    "        DATE_ADD(publish_time, 2) AS date_add,\n",
    "        DATEDIFF(trending_date, publish_time) AS date_diff\n",
    "FROM tbl_youtube\n",
    "LIMIT 3"
   ]
  },
  {
   "cell_type": "markdown",
   "id": "bc75cb7e-aaad-4bd2-bfb4-f3263e1a4651",
   "metadata": {},
   "source": [
    "## 1.4. Aliases\n",
    "\n",
    "Alias has been used when name of column or table is too long to use it mutiple times"
   ]
  },
  {
   "cell_type": "code",
   "execution_count": 114,
   "id": "4bb02b05-6494-4a97-80d3-8af696e9f9a6",
   "metadata": {},
   "outputs": [],
   "source": [
    "df = spark.read.csv('data/youtube_category.csv', header=True, inferSchema=True)\n",
    "\n",
    "df\\\n",
    "    .write.format('parquet')\\\n",
    "    .option('compression', 'snappy')\\\n",
    "    .mode('overwrite').saveAsTable('tbl_youtube_category')"
   ]
  },
  {
   "cell_type": "code",
   "execution_count": 125,
   "id": "f2d948a1-b8da-4b3e-bdf6-60bce6ce7bc7",
   "metadata": {},
   "outputs": [
    {
     "data": {
      "text/html": [
       "<table><tr style=\"border-bottom: 1px solid\"><td style=\"font-weight: bold\">id</td><td style=\"font-weight: bold\">name</td></tr><tr><td>1</td><td>Film &amp; Animation</td></tr><tr><td>2</td><td>Autos &amp; Vehicles</td></tr><tr><td>10</td><td>Music</td></tr><tr><td>15</td><td>Pets &amp; Animals</td></tr><tr><td>17</td><td>Sports</td></tr></table>"
      ],
      "text/plain": [
       "<IPython.core.display.HTML object>"
      ]
     },
     "execution_count": 125,
     "metadata": {},
     "output_type": "execute_result"
    }
   ],
   "source": [
    "%%sparksql\n",
    "\n",
    "SELECT  category_id AS id,\n",
    "        category_name AS name\n",
    "FROM tbl_youtube_category LIMIT 5"
   ]
  },
  {
   "cell_type": "code",
   "execution_count": 127,
   "id": "2617a5cf-4c2a-4d65-89cf-8f2f77412c04",
   "metadata": {},
   "outputs": [
    {
     "data": {
      "text/html": [
       "<table><tr style=\"border-bottom: 1px solid\"><td style=\"font-weight: bold\">video_id</td><td style=\"font-weight: bold\">category_id</td><td style=\"font-weight: bold\">publish_time</td><td style=\"font-weight: bold\">likes</td><td style=\"font-weight: bold\">views</td><td style=\"font-weight: bold\">category_name</td></tr><tr><td>2kyS6SvSYSE</td><td>22</td><td>2017-11-14 00:13:01</td><td>57527</td><td>748374</td><td>People &amp; Blogs</td></tr><tr><td>1ZAPwfrtAFY</td><td>24</td><td>2017-11-13 14:30:00</td><td>97185</td><td>2418783</td><td>Entertainment</td></tr><tr><td>5qpjK5DgCt4</td><td>23</td><td>2017-11-13 02:05:24</td><td>146033</td><td>3191434</td><td>Comedy</td></tr><tr><td>puqaWrEC7tY</td><td>24</td><td>2017-11-13 18:00:04</td><td>10172</td><td>343168</td><td>Entertainment</td></tr><tr><td>d380meD0W0M</td><td>24</td><td>2017-11-13 01:01:41</td><td>132235</td><td>2095731</td><td>Entertainment</td></tr></table>"
      ],
      "text/plain": [
       "<IPython.core.display.HTML object>"
      ]
     },
     "execution_count": 127,
     "metadata": {},
     "output_type": "execute_result"
    }
   ],
   "source": [
    "%%sparksql\n",
    "\n",
    "SELECT  ytb.video_id, \n",
    "        ytb.category_id,\n",
    "        ytb.publish_time,\n",
    "        ytb.likes, \n",
    "        ytb.views, \n",
    "        cat.category_name \n",
    "FROM tbl_youtube AS ytb\n",
    "LEFT JOIN tbl_youtube_category AS cat\n",
    "ON ytb.category_id = cat.category_id\n",
    "AND ytb.publish_time >= '2017-11-12'\n",
    "LIMIT 5"
   ]
  },
  {
   "cell_type": "markdown",
   "id": "32967bff-1947-4d0c-a4f7-cea71dc1827f",
   "metadata": {},
   "source": [
    "# 2. Data manipulation"
   ]
  },
  {
   "cell_type": "markdown",
   "id": "585951af-85f7-496d-855a-1a2751fdba97",
   "metadata": {},
   "source": [
    "## 2.1. Filtering\n",
    "\n",
    "Filtering in SQL come with `WHERE` statement. With number or datetime, use `>,=,<` as normal, with string type, some commond function are `RLIKE`,`LIKE`,`IN`,`IS NULL`.\n",
    "When using multi condition with `AND`, `OR`, we should group statement `OR` with brackets to clear the query"
   ]
  },
  {
   "cell_type": "code",
   "execution_count": 138,
   "id": "38f13d6c-68a8-4faf-8b52-7f4ae8b7c568",
   "metadata": {},
   "outputs": [],
   "source": [
    "df = spark.read.csv('data/supermarket_sales.csv', header=True, inferSchema=True)\n",
    "\n",
    "df\\\n",
    "    .write.format('parquet')\\\n",
    "    .option('compression', 'snappy')\\\n",
    "    .mode('overwrite').saveAsTable('tbl_supermarket')"
   ]
  },
  {
   "cell_type": "code",
   "execution_count": 169,
   "id": "7f80fd59-d4f7-4cbe-8fb0-ed03d118cf5f",
   "metadata": {},
   "outputs": [
    {
     "data": {
      "text/html": [
       "<table><tr style=\"border-bottom: 1px solid\"><td style=\"font-weight: bold\">invoice_id</td><td style=\"font-weight: bold\">brand</td><td style=\"font-weight: bold\">city</td><td style=\"font-weight: bold\">customer_type</td><td style=\"font-weight: bold\">gender</td><td style=\"font-weight: bold\">product_line</td><td style=\"font-weight: bold\">unit_price</td><td style=\"font-weight: bold\">quantity</td><td style=\"font-weight: bold\">tax</td><td style=\"font-weight: bold\">date</td><td style=\"font-weight: bold\">time</td><td style=\"font-weight: bold\">payment</td><td style=\"font-weight: bold\">cost</td><td style=\"font-weight: bold\">gross_margin_percentage</td><td style=\"font-weight: bold\">profit</td><td style=\"font-weight: bold\">rating</td></tr><tr><td>750-67-8428</td><td>A</td><td>Yangon</td><td>Member</td><td>Female</td><td>Health and beauty</td><td>74.69</td><td>7</td><td>26.1415</td><td>01/05/2019</td><td>13:08</td><td>Ewallet</td><td>522.83</td><td>4.761904762</td><td>26.1415</td><td>9.1</td></tr><tr><td>226-31-3081</td><td>C</td><td>Naypyitaw</td><td>Normal</td><td>Female</td><td>Electronic accessories</td><td>15.28</td><td>5</td><td>3.82</td><td>03/08/2019</td><td>10:29</td><td>Cash</td><td>76.4</td><td>4.761904762</td><td>3.82</td><td>9.6</td></tr><tr><td>631-41-3108</td><td>A</td><td>Yangon</td><td>Normal</td><td>Male</td><td>Home and lifestyle</td><td>46.33</td><td>7</td><td>16.2155</td><td>03/03/2019</td><td>13:23</td><td>Credit card</td><td>324.31</td><td>4.761904762</td><td>16.2155</td><td>7.4</td></tr></table>"
      ],
      "text/plain": [
       "<IPython.core.display.HTML object>"
      ]
     },
     "execution_count": 169,
     "metadata": {},
     "output_type": "execute_result"
    }
   ],
   "source": [
    "%%sparksql\n",
    "\n",
    "SELECT * FROM tbl_supermarket \n",
    "WHERE quantity >= 5 AND quantity <= 9\n",
    "LIMIT 3"
   ]
  },
  {
   "cell_type": "code",
   "execution_count": 175,
   "id": "44b31c35-64ff-4c08-a9c6-64e40e0e6c51",
   "metadata": {},
   "outputs": [
    {
     "data": {
      "text/html": [
       "<table><tr style=\"border-bottom: 1px solid\"><td style=\"font-weight: bold\">invoice_id</td><td style=\"font-weight: bold\">brand</td><td style=\"font-weight: bold\">city</td><td style=\"font-weight: bold\">customer_type</td><td style=\"font-weight: bold\">gender</td><td style=\"font-weight: bold\">product_line</td><td style=\"font-weight: bold\">unit_price</td><td style=\"font-weight: bold\">quantity</td><td style=\"font-weight: bold\">tax</td><td style=\"font-weight: bold\">date</td><td style=\"font-weight: bold\">time</td><td style=\"font-weight: bold\">payment</td><td style=\"font-weight: bold\">cost</td><td style=\"font-weight: bold\">gross_margin_percentage</td><td style=\"font-weight: bold\">profit</td><td style=\"font-weight: bold\">rating</td></tr><tr><td>699-14-3026</td><td>C</td><td>Naypyitaw</td><td>Normal</td><td>Male</td><td>Electronic accessories</td><td>85.39</td><td>7</td><td>29.8865</td><td>3/25/2019</td><td>18:30</td><td>Ewallet</td><td>597.73</td><td>4.761904762</td><td>29.8865</td><td>4.1</td></tr><tr><td>829-34-3910</td><td>A</td><td>Yangon</td><td>Normal</td><td>Female</td><td>Health and beauty</td><td>71.38</td><td>10</td><td>35.69</td><td>3/29/2019</td><td>19:21</td><td>Cash</td><td>713.8</td><td>4.761904762</td><td>35.69</td><td>5.7</td></tr><tr><td>227-03-5010</td><td>A</td><td>Yangon</td><td>Member</td><td>Female</td><td>Home and lifestyle</td><td>52.59</td><td>8</td><td>21.036</td><td>3/22/2019</td><td>19:20</td><td>Credit card</td><td>420.72</td><td>4.761904762</td><td>21.036</td><td>8.5</td></tr></table>"
      ],
      "text/plain": [
       "<IPython.core.display.HTML object>"
      ]
     },
     "execution_count": 175,
     "metadata": {},
     "output_type": "execute_result"
    }
   ],
   "source": [
    "%%sparksql\n",
    "\n",
    "SELECT * FROM tbl_supermarket \n",
    "WHERE date > '3/15/2019' \n",
    "LIMIT 3"
   ]
  },
  {
   "cell_type": "code",
   "execution_count": 176,
   "id": "ca8b5826-f93f-4cd7-b991-d041c3b55df8",
   "metadata": {},
   "outputs": [
    {
     "data": {
      "text/html": [
       "<table><tr style=\"border-bottom: 1px solid\"><td style=\"font-weight: bold\">invoice_id</td><td style=\"font-weight: bold\">brand</td><td style=\"font-weight: bold\">city</td><td style=\"font-weight: bold\">customer_type</td><td style=\"font-weight: bold\">gender</td><td style=\"font-weight: bold\">product_line</td><td style=\"font-weight: bold\">unit_price</td><td style=\"font-weight: bold\">quantity</td><td style=\"font-weight: bold\">tax</td><td style=\"font-weight: bold\">date</td><td style=\"font-weight: bold\">time</td><td style=\"font-weight: bold\">payment</td><td style=\"font-weight: bold\">cost</td><td style=\"font-weight: bold\">gross_margin_percentage</td><td style=\"font-weight: bold\">profit</td><td style=\"font-weight: bold\">rating</td></tr><tr><td>226-31-3081</td><td>C</td><td>Naypyitaw</td><td>Normal</td><td>Female</td><td>Electronic accessories</td><td>15.28</td><td>5</td><td>3.82</td><td>03/08/2019</td><td>10:29</td><td>Cash</td><td>76.4</td><td>4.761904762</td><td>3.82</td><td>9.6</td></tr><tr><td>529-56-3974</td><td>B</td><td>Mandalay</td><td>Member</td><td>Male</td><td>Electronic accessories</td><td>25.51</td><td>4</td><td>5.102</td><td>03/09/2019</td><td>17:03</td><td>Cash</td><td>102.04</td><td>4.761904762</td><td>5.102</td><td>6.8</td></tr><tr><td>829-34-3910</td><td>A</td><td>Yangon</td><td>Normal</td><td>Female</td><td>Health and beauty</td><td>71.38</td><td>10</td><td>35.69</td><td>3/29/2019</td><td>19:21</td><td>Cash</td><td>713.8</td><td>4.761904762</td><td>35.69</td><td>5.7</td></tr></table>"
      ],
      "text/plain": [
       "<IPython.core.display.HTML object>"
      ]
     },
     "execution_count": 176,
     "metadata": {},
     "output_type": "execute_result"
    }
   ],
   "source": [
    "%%sparksql\n",
    "\n",
    "SELECT * FROM tbl_supermarket \n",
    "WHERE payment = 'Cash' AND rating > 5\n",
    "LIMIT 3"
   ]
  },
  {
   "cell_type": "code",
   "execution_count": 143,
   "id": "1e4cc8d7-d671-49f1-936b-9f9b44b22b54",
   "metadata": {},
   "outputs": [
    {
     "data": {
      "text/html": [
       "<table><tr style=\"border-bottom: 1px solid\"><td style=\"font-weight: bold\">invoice_id</td><td style=\"font-weight: bold\">brand</td><td style=\"font-weight: bold\">city</td><td style=\"font-weight: bold\">customer_type</td><td style=\"font-weight: bold\">gender</td><td style=\"font-weight: bold\">product_line</td><td style=\"font-weight: bold\">unit_price</td><td style=\"font-weight: bold\">quantity</td><td style=\"font-weight: bold\">tax</td><td style=\"font-weight: bold\">date</td><td style=\"font-weight: bold\">time</td><td style=\"font-weight: bold\">payment</td><td style=\"font-weight: bold\">cost</td><td style=\"font-weight: bold\">gross_margin_percentage</td><td style=\"font-weight: bold\">profit</td><td style=\"font-weight: bold\">rating</td></tr><tr><td>529-56-3974</td><td>B</td><td>Mandalay</td><td>Member</td><td>Male</td><td>Electronic accessories</td><td>25.51</td><td>4</td><td>5.102</td><td>03/09/2019</td><td>17:03</td><td>Cash</td><td>102.04</td><td>4.761904762</td><td>5.102</td><td>6.8</td></tr><tr><td>829-34-3910</td><td>A</td><td>Yangon</td><td>Normal</td><td>Female</td><td>Health and beauty</td><td>71.38</td><td>10</td><td>35.69</td><td>3/29/2019</td><td>19:21</td><td>Cash</td><td>713.8</td><td>4.761904762</td><td>35.69</td><td>5.7</td></tr><tr><td>299-46-1805</td><td>B</td><td>Mandalay</td><td>Member</td><td>Female</td><td>Sports and travel</td><td>93.72</td><td>6</td><td>28.116</td><td>1/15/2019</td><td>16:19</td><td>Cash</td><td>562.32</td><td>4.761904762</td><td>28.116</td><td>4.5</td></tr></table>"
      ],
      "text/plain": [
       "<IPython.core.display.HTML object>"
      ]
     },
     "execution_count": 143,
     "metadata": {},
     "output_type": "execute_result"
    }
   ],
   "source": [
    "%%sparksql\n",
    "\n",
    "SELECT * FROM tbl_supermarket \n",
    "WHERE payment = 'Cash' AND (city = 'Yangon' OR city = 'Mandalay')\n",
    "LIMIT 3"
   ]
  },
  {
   "cell_type": "code",
   "execution_count": 144,
   "id": "90ea731c-100d-487b-b745-7e7296990f22",
   "metadata": {},
   "outputs": [
    {
     "data": {
      "text/html": [
       "<table><tr style=\"border-bottom: 1px solid\"><td style=\"font-weight: bold\">invoice_id</td><td style=\"font-weight: bold\">brand</td><td style=\"font-weight: bold\">city</td><td style=\"font-weight: bold\">customer_type</td><td style=\"font-weight: bold\">gender</td><td style=\"font-weight: bold\">product_line</td><td style=\"font-weight: bold\">unit_price</td><td style=\"font-weight: bold\">quantity</td><td style=\"font-weight: bold\">tax</td><td style=\"font-weight: bold\">date</td><td style=\"font-weight: bold\">time</td><td style=\"font-weight: bold\">payment</td><td style=\"font-weight: bold\">cost</td><td style=\"font-weight: bold\">gross_margin_percentage</td><td style=\"font-weight: bold\">profit</td><td style=\"font-weight: bold\">rating</td></tr></table>"
      ],
      "text/plain": [
       "<IPython.core.display.HTML object>"
      ]
     },
     "execution_count": 144,
     "metadata": {},
     "output_type": "execute_result"
    }
   ],
   "source": [
    "%%sparksql\n",
    "\n",
    "SELECT * FROM tbl_supermarket\n",
    "WHERE product_line IS NULL"
   ]
  },
  {
   "cell_type": "code",
   "execution_count": 151,
   "id": "03cd8ae8-07fd-4856-9ba6-e4973a48d2ca",
   "metadata": {},
   "outputs": [
    {
     "data": {
      "text/html": [
       "<table><tr style=\"border-bottom: 1px solid\"><td style=\"font-weight: bold\">invoice_id</td><td style=\"font-weight: bold\">brand</td><td style=\"font-weight: bold\">city</td><td style=\"font-weight: bold\">customer_type</td><td style=\"font-weight: bold\">gender</td><td style=\"font-weight: bold\">product_line</td><td style=\"font-weight: bold\">unit_price</td><td style=\"font-weight: bold\">quantity</td><td style=\"font-weight: bold\">tax</td><td style=\"font-weight: bold\">date</td><td style=\"font-weight: bold\">time</td><td style=\"font-weight: bold\">payment</td><td style=\"font-weight: bold\">cost</td><td style=\"font-weight: bold\">gross_margin_percentage</td><td style=\"font-weight: bold\">profit</td><td style=\"font-weight: bold\">rating</td></tr><tr><td>750-67-8428</td><td>A</td><td>Yangon</td><td>Member</td><td>Female</td><td>Health and beauty</td><td>74.69</td><td>7</td><td>26.1415</td><td>01/05/2019</td><td>13:08</td><td>Ewallet</td><td>522.83</td><td>4.761904762</td><td>26.1415</td><td>9.1</td></tr><tr><td>123-19-1176</td><td>A</td><td>Yangon</td><td>Member</td><td>Male</td><td>Health and beauty</td><td>58.22</td><td>8</td><td>23.288</td><td>1/27/2019</td><td>20:33</td><td>Ewallet</td><td>465.76</td><td>4.761904762</td><td>23.288</td><td>8.4</td></tr><tr><td>665-32-9167</td><td>A</td><td>Yangon</td><td>Member</td><td>Female</td><td>Health and beauty</td><td>36.26</td><td>2</td><td>3.626</td><td>01/10/2019</td><td>17:15</td><td>Credit card</td><td>72.52</td><td>4.761904762</td><td>3.626</td><td>7.2</td></tr><tr><td>829-34-3910</td><td>A</td><td>Yangon</td><td>Normal</td><td>Female</td><td>Health and beauty</td><td>71.38</td><td>10</td><td>35.69</td><td>3/29/2019</td><td>19:21</td><td>Cash</td><td>713.8</td><td>4.761904762</td><td>35.69</td><td>5.7</td></tr><tr><td>656-95-9349</td><td>A</td><td>Yangon</td><td>Member</td><td>Female</td><td>Health and beauty</td><td>68.93</td><td>7</td><td>24.1255</td><td>03/11/2019</td><td>11:03</td><td>Credit card</td><td>482.51</td><td>4.761904762</td><td>24.1255</td><td>4.6</td></tr></table>"
      ],
      "text/plain": [
       "<IPython.core.display.HTML object>"
      ]
     },
     "execution_count": 151,
     "metadata": {},
     "output_type": "execute_result"
    }
   ],
   "source": [
    "%%sparksql\n",
    "\n",
    "SELECT * FROM tbl_supermarket\n",
    "WHERE brand IN ('A','C') AND product_line LIKE '%beauty'\n",
    "LIMIT 5"
   ]
  },
  {
   "cell_type": "code",
   "execution_count": 164,
   "id": "78d98a7e-b674-4c3b-ad29-c2cabda21e9a",
   "metadata": {},
   "outputs": [
    {
     "data": {
      "text/html": [
       "<table><tr style=\"border-bottom: 1px solid\"><td style=\"font-weight: bold\">invoice_id</td><td style=\"font-weight: bold\">brand</td><td style=\"font-weight: bold\">city</td><td style=\"font-weight: bold\">customer_type</td><td style=\"font-weight: bold\">gender</td><td style=\"font-weight: bold\">product_line</td><td style=\"font-weight: bold\">unit_price</td><td style=\"font-weight: bold\">quantity</td><td style=\"font-weight: bold\">tax</td><td style=\"font-weight: bold\">date</td><td style=\"font-weight: bold\">time</td><td style=\"font-weight: bold\">payment</td><td style=\"font-weight: bold\">cost</td><td style=\"font-weight: bold\">gross_margin_percentage</td><td style=\"font-weight: bold\">profit</td><td style=\"font-weight: bold\">rating</td></tr><tr><td>351-62-0822</td><td>B</td><td>Mandalay</td><td>Member</td><td>Female</td><td>Fashion accessories</td><td>14.48</td><td>4</td><td>2.896</td><td>02/06/2019</td><td>18:07</td><td>Ewallet</td><td>57.92</td><td>4.761904762</td><td>2.896</td><td>4.5</td></tr><tr><td>529-56-3974</td><td>B</td><td>Mandalay</td><td>Member</td><td>Male</td><td>Electronic accessories</td><td>25.51</td><td>4</td><td>5.102</td><td>03/09/2019</td><td>17:03</td><td>Cash</td><td>102.04</td><td>4.761904762</td><td>5.102</td><td>6.8</td></tr><tr><td>299-46-1805</td><td>B</td><td>Mandalay</td><td>Member</td><td>Female</td><td>Sports and travel</td><td>93.72</td><td>6</td><td>28.116</td><td>1/15/2019</td><td>16:19</td><td>Cash</td><td>562.32</td><td>4.761904762</td><td>28.116</td><td>4.5</td></tr><tr><td>649-29-6775</td><td>B</td><td>Mandalay</td><td>Normal</td><td>Male</td><td>Fashion accessories</td><td>33.52</td><td>1</td><td>1.676</td><td>02/08/2019</td><td>15:31</td><td>Cash</td><td>33.52</td><td>4.761904762</td><td>1.676</td><td>6.7</td></tr><tr><td>871-79-8483</td><td>B</td><td>Mandalay</td><td>Normal</td><td>Male</td><td>Fashion accessories</td><td>94.13</td><td>5</td><td>23.5325</td><td>2/25/2019</td><td>19:39</td><td>Credit card</td><td>470.65</td><td>4.761904762</td><td>23.5325</td><td>4.8</td></tr></table>"
      ],
      "text/plain": [
       "<IPython.core.display.HTML object>"
      ]
     },
     "execution_count": 164,
     "metadata": {},
     "output_type": "execute_result"
    }
   ],
   "source": [
    "%%sparksql\n",
    "\n",
    "SELECT * FROM tbl_supermarket\n",
    "WHERE brand NOT IN ('A','C') AND product_line RLIKE ('accessories|travel')\n",
    "LIMIT 5"
   ]
  },
  {
   "cell_type": "markdown",
   "id": "de469f7f-ef13-4411-bd21-8d966671d0b1",
   "metadata": {},
   "source": [
    "## 2.2. Aggregating\n",
    "\n",
    "```sql\n",
    "GROUP BY: COUNT(*), COUNT(DISTINCT), COUNT(CASE WHEN), SUM, SUM(DISTINCT), AVG, AVG(DISTINCT), MIN, MAX, VAR_POP, STDDEV_POP, PERCENTILE\n",
    "```\n",
    "\n",
    "*Reference: [Apache Hive - Aggregate functions](https://cwiki.apache.org/confluence/display/hive/languagemanual+udf#LanguageManualUDF-Built-inAggregateFunctions(UDAF))*"
   ]
  },
  {
   "cell_type": "code",
   "execution_count": 178,
   "id": "4dab764e-d2c2-4e23-bb3d-e40171a07507",
   "metadata": {},
   "outputs": [
    {
     "data": {
      "text/html": [
       "<table><tr style=\"border-bottom: 1px solid\"><td style=\"font-weight: bold\">invoice_id</td><td style=\"font-weight: bold\">brand</td><td style=\"font-weight: bold\">city</td><td style=\"font-weight: bold\">customer_type</td><td style=\"font-weight: bold\">gender</td><td style=\"font-weight: bold\">product_line</td><td style=\"font-weight: bold\">unit_price</td><td style=\"font-weight: bold\">quantity</td><td style=\"font-weight: bold\">tax</td><td style=\"font-weight: bold\">date</td><td style=\"font-weight: bold\">time</td><td style=\"font-weight: bold\">payment</td><td style=\"font-weight: bold\">cost</td><td style=\"font-weight: bold\">gross_margin_percentage</td><td style=\"font-weight: bold\">profit</td><td style=\"font-weight: bold\">rating</td></tr><tr><td>750-67-8428</td><td>A</td><td>Yangon</td><td>Member</td><td>Female</td><td>Health and beauty</td><td>74.69</td><td>7</td><td>26.1415</td><td>01/05/2019</td><td>13:08</td><td>Ewallet</td><td>522.83</td><td>4.761904762</td><td>26.1415</td><td>9.1</td></tr><tr><td>226-31-3081</td><td>C</td><td>Naypyitaw</td><td>Normal</td><td>Female</td><td>Electronic accessories</td><td>15.28</td><td>5</td><td>3.82</td><td>03/08/2019</td><td>10:29</td><td>Cash</td><td>76.4</td><td>4.761904762</td><td>3.82</td><td>9.6</td></tr><tr><td>631-41-3108</td><td>A</td><td>Yangon</td><td>Normal</td><td>Male</td><td>Home and lifestyle</td><td>46.33</td><td>7</td><td>16.2155</td><td>03/03/2019</td><td>13:23</td><td>Credit card</td><td>324.31</td><td>4.761904762</td><td>16.2155</td><td>7.4</td></tr></table>"
      ],
      "text/plain": [
       "<IPython.core.display.HTML object>"
      ]
     },
     "execution_count": 178,
     "metadata": {},
     "output_type": "execute_result"
    }
   ],
   "source": [
    "%%sparksql\n",
    "\n",
    "SELECT * from tbl_supermarket LIMIT 3"
   ]
  },
  {
   "cell_type": "code",
   "execution_count": 186,
   "id": "7430a886-9023-4453-a3b6-c0219ae0073f",
   "metadata": {},
   "outputs": [
    {
     "data": {
      "text/html": [
       "<table><tr style=\"border-bottom: 1px solid\"><td style=\"font-weight: bold\">count(1)</td></tr><tr><td>1000</td></tr></table>"
      ],
      "text/plain": [
       "<IPython.core.display.HTML object>"
      ]
     },
     "execution_count": 186,
     "metadata": {},
     "output_type": "execute_result"
    }
   ],
   "source": [
    "%%sparksql\n",
    "\n",
    "SELECT COUNT(*) FROM tbl_supermarket"
   ]
  },
  {
   "cell_type": "code",
   "execution_count": 185,
   "id": "9412a898-463f-4acc-a815-87a36886cba7",
   "metadata": {},
   "outputs": [
    {
     "data": {
      "text/html": [
       "<table><tr style=\"border-bottom: 1px solid\"><td style=\"font-weight: bold\">brand</td><td style=\"font-weight: bold\">total_profit</td><td style=\"font-weight: bold\">total_invoice</td><td style=\"font-weight: bold\">num_product_line</td><td style=\"font-weight: bold\">avg_price</td><td style=\"font-weight: bold\">min_tax</td><td style=\"font-weight: bold\">max_tax</td></tr><tr><td>B</td><td>5057.03</td><td>332</td><td>6</td><td>55.65927710843373</td><td>0.8875</td><td>48.69</td></tr><tr><td>C</td><td>5265.18</td><td>328</td><td>6</td><td>56.60902439024389</td><td>0.5085</td><td>49.65</td></tr><tr><td>A</td><td>5057.16</td><td>340</td><td>6</td><td>54.780852941176484</td><td>0.6045</td><td>49.49</td></tr></table>"
      ],
      "text/plain": [
       "<IPython.core.display.HTML object>"
      ]
     },
     "execution_count": 185,
     "metadata": {},
     "output_type": "execute_result"
    }
   ],
   "source": [
    "%%sparksql\n",
    "\n",
    "SELECT  brand, \n",
    "        ROUND(SUM(profit),2) total_profit, \n",
    "        COUNT(invoice_id) total_invoice,\n",
    "        COUNT(DISTINCT product_line) num_product_line,\n",
    "        AVG(unit_price) avg_price,\n",
    "        MIN(tax) min_tax,\n",
    "        MAX(tax) max_tax\n",
    "FROM tbl_supermarket \n",
    "GROUP BY brand"
   ]
  },
  {
   "cell_type": "code",
   "execution_count": 189,
   "id": "3b7abe59-1042-458c-ab87-96ca4bd96485",
   "metadata": {},
   "outputs": [
    {
     "data": {
      "text/html": [
       "<table><tr style=\"border-bottom: 1px solid\"><td style=\"font-weight: bold\">brand</td><td style=\"font-weight: bold\">city</td><td style=\"font-weight: bold\">member_profit</td><td style=\"font-weight: bold\">normal_profit</td></tr><tr><td>B</td><td>Mandalay</td><td>2557.366000000001</td><td>2499.666</td></tr><tr><td>C</td><td>Naypyitaw</td><td>2708.6325000000006</td><td>2556.5439999999994</td></tr><tr><td>A</td><td>Yangon</td><td>2554.165499999999</td><td>2502.9950000000017</td></tr></table>"
      ],
      "text/plain": [
       "<IPython.core.display.HTML object>"
      ]
     },
     "execution_count": 189,
     "metadata": {},
     "output_type": "execute_result"
    }
   ],
   "source": [
    "%%sparksql\n",
    "\n",
    "SELECT  brand, city, \n",
    "        SUM(CASE WHEN customer_type = 'Member' THEN profit ELSE 0 END) member_profit,\n",
    "        SUM(CASE WHEN customer_type = 'Normal' THEN profit ELSE 0 END) normal_profit\n",
    "FROM tbl_supermarket\n",
    "GROUP BY brand, city"
   ]
  },
  {
   "cell_type": "code",
   "execution_count": 206,
   "id": "cf584d90-0cdc-4f72-ab24-9d67a0a7d4f5",
   "metadata": {},
   "outputs": [
    {
     "data": {
      "text/html": [
       "<table><tr style=\"border-bottom: 1px solid\"><td style=\"font-weight: bold\">product_line</td><td style=\"font-weight: bold\">price_var_pop</td><td style=\"font-weight: bold\">price_var_samp</td><td style=\"font-weight: bold\">price_std</td><td style=\"font-weight: bold\">price_median</td></tr><tr><td>Home and lifestyle</td><td>682.51</td><td>686.8</td><td>26.12</td><td>55.59</td></tr><tr><td>Fashion accessories</td><td>707.1</td><td>711.09</td><td>26.59</td><td>55.09</td></tr><tr><td>Health and beauty</td><td>689.91</td><td>694.48</td><td>26.27</td><td>57.41</td></tr><tr><td>Electronic accessories</td><td>711.25</td><td>715.46</td><td>26.67</td><td>51.5</td></tr><tr><td>Food and beverages</td><td>686.16</td><td>690.13</td><td>26.19</td><td>54.0</td></tr><tr><td>Sports and travel</td><td>719.52</td><td>723.88</td><td>26.82</td><td>58.65</td></tr></table>"
      ],
      "text/plain": [
       "<IPython.core.display.HTML object>"
      ]
     },
     "execution_count": 206,
     "metadata": {},
     "output_type": "execute_result"
    }
   ],
   "source": [
    "%%sparksql\n",
    "\n",
    "SELECT  product_line, \n",
    "        ROUND(VAR_POP(unit_price),2) price_var_pop, \n",
    "        ROUND(VARIANCE(unit_price),2) price_var_samp,\n",
    "        ROUND(STDDEV_POP(unit_price),2) price_std,\n",
    "        ROUND(PERCENTILE(unit_price,0.5),2) price_median\n",
    "FROM tbl_supermarket\n",
    "GROUP BY product_line"
   ]
  },
  {
   "cell_type": "markdown",
   "id": "632f1bac-fd33-468d-89f1-ca685100dff5",
   "metadata": {},
   "source": [
    "## 2.3. Window functions\n",
    "\n",
    "- Windows functions: ROW_NUMBER, RANK, DENSE_RANK, NTILE,... (same as in pyspark)\n",
    "- Special uses of SUM, COUNT (with or without PARTITION BY)\n",
    "- ROW|RANGE BETWEEN, UNBOUNDED, PRECEDING, CURRENT_ROW,...\n",
    "\n",
    "*Reference: [Apache Hive - Window functions](https://cwiki.apache.org/confluence/display/hive/languagemanual+windowingandanalytics)*"
   ]
  },
  {
   "cell_type": "code",
   "execution_count": 239,
   "id": "55db8650-b170-40c3-82ee-4a7691a5baa8",
   "metadata": {},
   "outputs": [
    {
     "data": {
      "text/html": [
       "<table><tr style=\"border-bottom: 1px solid\"><td style=\"font-weight: bold\">invoice_id</td><td style=\"font-weight: bold\">brand</td><td style=\"font-weight: bold\">city</td><td style=\"font-weight: bold\">customer_type</td><td style=\"font-weight: bold\">gender</td><td style=\"font-weight: bold\">product_line</td><td style=\"font-weight: bold\">unit_price</td><td style=\"font-weight: bold\">quantity</td><td style=\"font-weight: bold\">tax</td><td style=\"font-weight: bold\">date</td><td style=\"font-weight: bold\">time</td><td style=\"font-weight: bold\">payment</td><td style=\"font-weight: bold\">cost</td><td style=\"font-weight: bold\">gross_margin_percentage</td><td style=\"font-weight: bold\">profit</td><td style=\"font-weight: bold\">rating</td></tr><tr><td>750-67-8428</td><td>A</td><td>Yangon</td><td>Member</td><td>Female</td><td>Health and beauty</td><td>74.69</td><td>7</td><td>26.1415</td><td>01/05/2019</td><td>13:08</td><td>Ewallet</td><td>522.83</td><td>4.761904762</td><td>26.1415</td><td>9.1</td></tr><tr><td>226-31-3081</td><td>C</td><td>Naypyitaw</td><td>Normal</td><td>Female</td><td>Electronic accessories</td><td>15.28</td><td>5</td><td>3.82</td><td>03/08/2019</td><td>10:29</td><td>Cash</td><td>76.4</td><td>4.761904762</td><td>3.82</td><td>9.6</td></tr><tr><td>631-41-3108</td><td>A</td><td>Yangon</td><td>Normal</td><td>Male</td><td>Home and lifestyle</td><td>46.33</td><td>7</td><td>16.2155</td><td>03/03/2019</td><td>13:23</td><td>Credit card</td><td>324.31</td><td>4.761904762</td><td>16.2155</td><td>7.4</td></tr></table>"
      ],
      "text/plain": [
       "<IPython.core.display.HTML object>"
      ]
     },
     "execution_count": 239,
     "metadata": {},
     "output_type": "execute_result"
    }
   ],
   "source": [
    "%%sparksql\n",
    "\n",
    "SELECT * FROM tbl_supermarket LIMIT 3"
   ]
  },
  {
   "cell_type": "code",
   "execution_count": 236,
   "id": "e3bad17c-3b62-4606-9434-e8a1a7dbe2af",
   "metadata": {},
   "outputs": [
    {
     "data": {
      "text/html": [
       "<table><tr style=\"border-bottom: 1px solid\"><td style=\"font-weight: bold\">brand</td><td style=\"font-weight: bold\">product_line</td><td style=\"font-weight: bold\">total_profit</td><td style=\"font-weight: bold\">row_num</td><td style=\"font-weight: bold\">rank</td><td style=\"font-weight: bold\">dense_rank</td><td style=\"font-weight: bold\">ntile</td></tr><tr><td>A</td><td>Home and lifestyle</td><td>1067.4854999999998</td><td>1</td><td>2</td><td>2</td><td>1</td></tr><tr><td>A</td><td>Sports and travel</td><td>922.5095</td><td>2</td><td>6</td><td>6</td><td>2</td></tr><tr><td>A</td><td>Electronic accessories</td><td>872.2435000000002</td><td>3</td><td>8</td><td>8</td><td>2</td></tr><tr><td>A</td><td>Food and beverages</td><td>817.2905</td><td>4</td><td>10</td><td>10</td><td>2</td></tr><tr><td>A</td><td>Fashion accessories</td><td>777.7385000000002</td><td>5</td><td>14</td><td>14</td><td>3</td></tr><tr><td>A</td><td>Health and beauty</td><td>599.893</td><td>6</td><td>18</td><td>18</td><td>4</td></tr><tr><td>B</td><td>Sports and travel</td><td>951.8189999999997</td><td>1</td><td>4</td><td>4</td><td>1</td></tr><tr><td>B</td><td>Health and beauty</td><td>951.4599999999999</td><td>2</td><td>5</td><td>5</td><td>1</td></tr><tr><td>B</td><td>Home and lifestyle</td><td>835.6745000000001</td><td>3</td><td>9</td><td>9</td><td>2</td></tr><tr><td>B</td><td>Electronic accessories</td><td>811.9735000000001</td><td>4</td><td>11</td><td>11</td><td>3</td></tr><tr><td>B</td><td>Fashion accessories</td><td>781.5864999999999</td><td>5</td><td>13</td><td>13</td><td>3</td></tr><tr><td>B</td><td>Food and beverages</td><td>724.5184999999999</td><td>6</td><td>16</td><td>16</td><td>4</td></tr><tr><td>C</td><td>Food and beverages</td><td>1131.7549999999999</td><td>1</td><td>1</td><td>1</td><td>1</td></tr><tr><td>C</td><td>Fashion accessories</td><td>1026.67</td><td>2</td><td>3</td><td>3</td><td>1</td></tr><tr><td>C</td><td>Electronic accessories</td><td>903.2844999999999</td><td>3</td><td>7</td><td>7</td><td>2</td></tr><tr><td>C</td><td>Health and beauty</td><td>791.206</td><td>4</td><td>12</td><td>12</td><td>3</td></tr><tr><td>C</td><td>Sports and travel</td><td>750.5680000000003</td><td>5</td><td>15</td><td>15</td><td>4</td></tr><tr><td>C</td><td>Home and lifestyle</td><td>661.6930000000002</td><td>6</td><td>17</td><td>17</td><td>4</td></tr></table>"
      ],
      "text/plain": [
       "<IPython.core.display.HTML object>"
      ]
     },
     "execution_count": 236,
     "metadata": {},
     "output_type": "execute_result"
    }
   ],
   "source": [
    "%%sparksql\n",
    "\n",
    "SELECT *, \n",
    "    ROW_NUMBER() OVER(PARTITION BY(brand) ORDER BY(total_profit) DESC) AS row_num,\n",
    "    RANK() OVER(ORDER BY(total_profit) DESC) AS rank,\n",
    "    DENSE_RANK() OVER(ORDER BY(total_profit) DESC) AS dense_rank,\n",
    "    NTILE(4) OVER(ORDER BY(total_profit) DESC) AS ntile\n",
    "FROM\n",
    "(SELECT brand, product_line, SUM(profit) total_profit \n",
    "FROM tbl_supermarket\n",
    "GROUP BY brand, product_line)"
   ]
  },
  {
   "cell_type": "code",
   "execution_count": 260,
   "id": "b2111658-38b2-4f70-b0fd-7b40d76127c0",
   "metadata": {},
   "outputs": [
    {
     "data": {
      "text/html": [
       "<table><tr style=\"border-bottom: 1px solid\"><td style=\"font-weight: bold\">invoice_id</td><td style=\"font-weight: bold\">brand</td><td style=\"font-weight: bold\">city</td><td style=\"font-weight: bold\">total_invoice</td><td style=\"font-weight: bold\">total_quantity</td></tr><tr><td>226-31-3081</td><td>C</td><td>Naypyitaw</td><td>328</td><td>1831</td></tr><tr><td>699-14-3026</td><td>C</td><td>Naypyitaw</td><td>328</td><td>1831</td></tr><tr><td>315-22-5665</td><td>C</td><td>Naypyitaw</td><td>328</td><td>1831</td></tr><tr><td>300-71-4605</td><td>C</td><td>Naypyitaw</td><td>328</td><td>1831</td></tr></table>"
      ],
      "text/plain": [
       "<IPython.core.display.HTML object>"
      ]
     },
     "execution_count": 260,
     "metadata": {},
     "output_type": "execute_result"
    }
   ],
   "source": [
    "%%sparksql\n",
    "\n",
    "SELECT  invoice_id, brand, city, \n",
    "        COUNT(invoice_id) OVER(PARTITION BY (city)) AS total_invoice,\n",
    "        SUM(quantity) OVER(PARTITION BY (city)) AS total_quantity\n",
    "FROM tbl_supermarket\n",
    "LIMIT 4"
   ]
  },
  {
   "cell_type": "code",
   "execution_count": 261,
   "id": "76f0e37b-bc49-4212-83a0-0a46f65336df",
   "metadata": {},
   "outputs": [
    {
     "data": {
      "text/html": [
       "<table><tr style=\"border-bottom: 1px solid\"><td style=\"font-weight: bold\">city</td><td style=\"font-weight: bold\">num_invoice</td></tr><tr><td>Naypyitaw</td><td>328</td></tr><tr><td>Mandalay</td><td>332</td></tr><tr><td>Yangon</td><td>340</td></tr></table>"
      ],
      "text/plain": [
       "<IPython.core.display.HTML object>"
      ]
     },
     "execution_count": 261,
     "metadata": {},
     "output_type": "execute_result"
    }
   ],
   "source": [
    "%%sparksql\n",
    "\n",
    "SELECT city, COUNT(invoice_id) AS num_invoice\n",
    "FROM tbl_supermarket\n",
    "GROUP BY  city"
   ]
  },
  {
   "cell_type": "code",
   "execution_count": 265,
   "id": "f608bb55-e882-4fe7-a673-568e4e399101",
   "metadata": {},
   "outputs": [
    {
     "data": {
      "text/html": [
       "<table><tr style=\"border-bottom: 1px solid\"><td style=\"font-weight: bold\">invoice_id</td><td style=\"font-weight: bold\">brand</td><td style=\"font-weight: bold\">city</td><td style=\"font-weight: bold\">customer_type</td><td style=\"font-weight: bold\">gender</td><td style=\"font-weight: bold\">product_line</td><td style=\"font-weight: bold\">unit_price</td><td style=\"font-weight: bold\">quantity</td><td style=\"font-weight: bold\">tax</td><td style=\"font-weight: bold\">date</td><td style=\"font-weight: bold\">time</td><td style=\"font-weight: bold\">payment</td><td style=\"font-weight: bold\">cost</td><td style=\"font-weight: bold\">gross_margin_percentage</td><td style=\"font-weight: bold\">profit</td><td style=\"font-weight: bold\">rating</td><td style=\"font-weight: bold\">test</td></tr><tr><td>891-01-7034</td><td>B</td><td>Mandalay</td><td>Normal</td><td>Female</td><td>Electronic accessories</td><td>74.71</td><td>6</td><td>22.413</td><td>01/01/2019</td><td>19:07</td><td>Cash</td><td>448.26</td><td>4.761904762</td><td>22.413</td><td>6.7</td><td>6</td></tr><tr><td>770-42-8960</td><td>B</td><td>Mandalay</td><td>Normal</td><td>Male</td><td>Food and beverages</td><td>21.12</td><td>8</td><td>8.448</td><td>01/01/2019</td><td>19:31</td><td>Cash</td><td>168.96</td><td>4.761904762</td><td>8.448</td><td>6.3</td><td>14</td></tr><tr><td>746-04-1077</td><td>B</td><td>Mandalay</td><td>Member</td><td>Female</td><td>Food and beverages</td><td>84.63</td><td>10</td><td>42.315</td><td>01/01/2019</td><td>11:36</td><td>Credit card</td><td>846.3</td><td>4.761904762</td><td>42.315</td><td>9.0</td><td>24</td></tr><tr><td>244-08-0162</td><td>B</td><td>Mandalay</td><td>Normal</td><td>Female</td><td>Health and beauty</td><td>34.21</td><td>10</td><td>17.105</td><td>01/02/2019</td><td>13:00</td><td>Cash</td><td>342.1</td><td>4.761904762</td><td>17.105</td><td>5.1</td><td>34</td></tr><tr><td>198-84-7132</td><td>B</td><td>Mandalay</td><td>Member</td><td>Male</td><td>Fashion accessories</td><td>40.61</td><td>9</td><td>18.2745</td><td>01/02/2019</td><td>13:40</td><td>Cash</td><td>365.49</td><td>4.761904762</td><td>18.2745</td><td>7.0</td><td>43</td></tr></table>"
      ],
      "text/plain": [
       "<IPython.core.display.HTML object>"
      ]
     },
     "execution_count": 265,
     "metadata": {},
     "output_type": "execute_result"
    }
   ],
   "source": [
    "%%sparksql\n",
    "\n",
    "SELECT *, \n",
    "SUM(quantity) OVER (PARTITION BY brand ORDER BY date ROWS BETWEEN UNBOUNDED PRECEDING AND CURRENT ROW) as test\n",
    "FROM tbl_supermarket\n",
    "LIMIT 5"
   ]
  },
  {
   "cell_type": "markdown",
   "id": "7daa92ef-9298-472a-9382-cc37b691a353",
   "metadata": {},
   "source": [
    "## 2.4. Gathering data\n",
    "- `JOIN`: cross, left, right, inner, outer\n",
    "- `UNION`: all"
   ]
  },
  {
   "cell_type": "code",
   "execution_count": 10,
   "id": "450224ed-829b-4bbb-83c4-fd4e01b6fe66",
   "metadata": {},
   "outputs": [
    {
     "data": {
      "text/html": [
       "<table><tr style=\"border-bottom: 1px solid\"></tr></table>"
      ],
      "text/plain": [
       "<IPython.core.display.HTML object>"
      ]
     },
     "execution_count": 10,
     "metadata": {},
     "output_type": "execute_result"
    }
   ],
   "source": [
    "%%sparksql\n",
    "\n",
    "CREATE EXTERNAL TABLE IF NOT EXISTS tbl_user\n",
    "STORED AS PARQUET\n",
    "LOCATION 'tbl_user'\n",
    "TBLPROPERTIES ('parquet.compression'='snappy')\n",
    "\n",
    "SELECT *\n",
    "FROM VALUES\n",
    "    (1, 'Jane', NULL),\n",
    "    (2, 'Alex', 25),\n",
    "    (3, 'Mary', 21),\n",
    "    (4, NULL, 20)\n",
    "AS (userid, name, age)"
   ]
  },
  {
   "cell_type": "code",
   "execution_count": 30,
   "id": "bf56a14c-58c6-4f1a-903a-a2c7460ed549",
   "metadata": {
    "tags": []
   },
   "outputs": [
    {
     "data": {
      "text/html": [
       "<table><tr style=\"border-bottom: 1px solid\"></tr></table>"
      ],
      "text/plain": [
       "<IPython.core.display.HTML object>"
      ]
     },
     "execution_count": 30,
     "metadata": {},
     "output_type": "execute_result"
    }
   ],
   "source": [
    "%%sparksql\n",
    "\n",
    "CREATE EXTERNAL TABLE IF NOT EXISTS tbl_sale\n",
    "STORED AS PARQUET\n",
    "LOCATION 'tbl_sale'\n",
    "TBLPROPERTIES ('parquet.compression'='snappy')\n",
    "\n",
    "SELECT *\n",
    "FROM VALUES\n",
    "    (1, 1000, 2, 5),\n",
    "    (2, 2560, 5, 10),\n",
    "    (3, 1400, 1, 15),\n",
    "    (5, 3214, 3, 0)\n",
    "AS (userid, sale, quantity, shipping_fee)"
   ]
  },
  {
   "cell_type": "code",
   "execution_count": 37,
   "id": "5519fac6-a45e-47dd-a949-716f252be34e",
   "metadata": {},
   "outputs": [
    {
     "data": {
      "text/html": [
       "<table><tr style=\"border-bottom: 1px solid\"></tr></table>"
      ],
      "text/plain": [
       "<IPython.core.display.HTML object>"
      ]
     },
     "execution_count": 37,
     "metadata": {},
     "output_type": "execute_result"
    }
   ],
   "source": [
    "%%sparksql\n",
    "\n",
    "CREATE EXTERNAL TABLE IF NOT EXISTS tbl_user_append\n",
    "STORED AS PARQUET\n",
    "LOCATION 'tbl_user_append'\n",
    "TBLPROPERTIES ('parquet.compression'='snappy')\n",
    "\n",
    "SELECT *\n",
    "FROM VALUES\n",
    "    (5, 'Adam', 26),\n",
    "    (6, 'Kayn', 25),\n",
    "    (7, 'Kelly', 19),\n",
    "    (8, 'Muoas', 20)\n",
    "AS (userid, name, age)"
   ]
  },
  {
   "cell_type": "code",
   "execution_count": 31,
   "id": "9f962213-fedd-4212-95d2-91fc3c739e10",
   "metadata": {},
   "outputs": [
    {
     "data": {
      "text/html": [
       "<table><tr style=\"border-bottom: 1px solid\"><td style=\"font-weight: bold\">userid</td><td style=\"font-weight: bold\">name</td><td style=\"font-weight: bold\">age</td><td style=\"font-weight: bold\">userid</td><td style=\"font-weight: bold\">sale</td><td style=\"font-weight: bold\">quantity</td><td style=\"font-weight: bold\">shipping_fee</td></tr><tr><td>3</td><td>Mary</td><td>21</td><td>3</td><td>1400</td><td>1</td><td>15</td></tr><tr><td>2</td><td>Alex</td><td>25</td><td>2</td><td>2560</td><td>5</td><td>10</td></tr><tr><td>1</td><td>Jane</td><td>null</td><td>1</td><td>1000</td><td>2</td><td>5</td></tr><tr><td>4</td><td>null</td><td>20</td><td>null</td><td>null</td><td>null</td><td>null</td></tr></table>"
      ],
      "text/plain": [
       "<IPython.core.display.HTML object>"
      ]
     },
     "execution_count": 31,
     "metadata": {},
     "output_type": "execute_result"
    }
   ],
   "source": [
    "%%sparksql\n",
    "\n",
    "SELECT u.*, s.* FROM tbl_user u\n",
    "LEFT JOIN tbl_sale s\n",
    "ON u.userid = s.userid"
   ]
  },
  {
   "cell_type": "code",
   "execution_count": 32,
   "id": "3c9f2b04-ecc2-4e23-abfe-e09338f9b35e",
   "metadata": {},
   "outputs": [
    {
     "data": {
      "text/html": [
       "<table><tr style=\"border-bottom: 1px solid\"><td style=\"font-weight: bold\">userid</td><td style=\"font-weight: bold\">name</td><td style=\"font-weight: bold\">age</td><td style=\"font-weight: bold\">userid</td><td style=\"font-weight: bold\">sale</td><td style=\"font-weight: bold\">quantity</td><td style=\"font-weight: bold\">shipping_fee</td></tr><tr><td>3</td><td>Mary</td><td>21</td><td>3</td><td>1400</td><td>1</td><td>15</td></tr><tr><td>1</td><td>Jane</td><td>null</td><td>1</td><td>1000</td><td>2</td><td>5</td></tr><tr><td>2</td><td>Alex</td><td>25</td><td>2</td><td>2560</td><td>5</td><td>10</td></tr></table>"
      ],
      "text/plain": [
       "<IPython.core.display.HTML object>"
      ]
     },
     "execution_count": 32,
     "metadata": {},
     "output_type": "execute_result"
    }
   ],
   "source": [
    "%%sparksql\n",
    "\n",
    "SELECT u.*, s.* FROM tbl_user u\n",
    "INNER JOIN tbl_sale s\n",
    "ON u.userid = s.userid"
   ]
  },
  {
   "cell_type": "code",
   "execution_count": 35,
   "id": "e2c4e6f9-71f1-450b-b052-c9a7cd461bac",
   "metadata": {},
   "outputs": [
    {
     "data": {
      "text/html": [
       "<table><tr style=\"border-bottom: 1px solid\"><td style=\"font-weight: bold\">userid</td><td style=\"font-weight: bold\">name</td><td style=\"font-weight: bold\">age</td><td style=\"font-weight: bold\">userid</td><td style=\"font-weight: bold\">sale</td><td style=\"font-weight: bold\">quantity</td><td style=\"font-weight: bold\">shipping_fee</td></tr><tr><td>1</td><td>Jane</td><td>null</td><td>1</td><td>1000</td><td>2</td><td>5</td></tr><tr><td>3</td><td>Mary</td><td>21</td><td>3</td><td>1400</td><td>1</td><td>15</td></tr><tr><td>null</td><td>null</td><td>null</td><td>5</td><td>3214</td><td>3</td><td>0</td></tr><tr><td>4</td><td>null</td><td>20</td><td>null</td><td>null</td><td>null</td><td>null</td></tr><tr><td>2</td><td>Alex</td><td>25</td><td>2</td><td>2560</td><td>5</td><td>10</td></tr></table>"
      ],
      "text/plain": [
       "<IPython.core.display.HTML object>"
      ]
     },
     "execution_count": 35,
     "metadata": {},
     "output_type": "execute_result"
    }
   ],
   "source": [
    "%%sparksql\n",
    "\n",
    "SELECT u.*, s.* FROM tbl_user u\n",
    "FULL OUTER JOIN tbl_sale s\n",
    "ON u.userid = s.userid"
   ]
  },
  {
   "cell_type": "code",
   "execution_count": 40,
   "id": "387efde9-47a7-4177-850d-a2ab1bd0575d",
   "metadata": {},
   "outputs": [
    {
     "data": {
      "text/html": [
       "<table><tr style=\"border-bottom: 1px solid\"><td style=\"font-weight: bold\">userid</td><td style=\"font-weight: bold\">name</td><td style=\"font-weight: bold\">age</td></tr><tr><td>1</td><td>Jane</td><td>null</td></tr><tr><td>2</td><td>Alex</td><td>25</td></tr><tr><td>3</td><td>Mary</td><td>21</td></tr><tr><td>4</td><td>null</td><td>20</td></tr><tr><td>5</td><td>Adam</td><td>26</td></tr><tr><td>6</td><td>Kayn</td><td>25</td></tr><tr><td>7</td><td>Kelly</td><td>19</td></tr><tr><td>8</td><td>Muoas</td><td>20</td></tr></table>"
      ],
      "text/plain": [
       "<IPython.core.display.HTML object>"
      ]
     },
     "execution_count": 40,
     "metadata": {},
     "output_type": "execute_result"
    }
   ],
   "source": [
    "%%sparksql\n",
    "\n",
    "SELECT * FROM tbl_user \n",
    "UNION (SELECT * FROM tbl_user_append) \n",
    "ORDER BY userid"
   ]
  },
  {
   "cell_type": "markdown",
   "id": "ee03f00d-c30e-4d8b-a652-e761a74a3481",
   "metadata": {},
   "source": [
    "## 2.5. Order of execution\n",
    "```sql\n",
    "FROM -> JOIN [ON] -> WHERE -> GROUP BY -> HAVING -> SELECT -> ORDER BY -> LIMIT\n",
    "```"
   ]
  },
  {
   "cell_type": "code",
   "execution_count": 53,
   "id": "0ec33843-f3d6-4b0c-b389-ca698912925c",
   "metadata": {},
   "outputs": [
    {
     "data": {
      "text/html": [
       "<table><tr style=\"border-bottom: 1px solid\"><td style=\"font-weight: bold\">category_name</td><td style=\"font-weight: bold\">total_like</td><td style=\"font-weight: bold\">total_view</td></tr><tr><td>Music</td><td>178960460</td><td>3943074543</td></tr><tr><td>Entertainment</td><td>119595586</td><td>3913251602</td></tr><tr><td>Comedy</td><td>50180357</td><td>972703458</td></tr><tr><td>People &amp; Blogs</td><td>25302630</td><td>590243343</td></tr><tr><td>How to &amp; Style</td><td>24267555</td><td>694417305</td></tr><tr><td>Science &amp; Technology</td><td>13931612</td><td>476338569</td></tr><tr><td>Film &amp; Animation</td><td>11891589</td><td>574027383</td></tr><tr><td>Sports</td><td>7067350</td><td>340256954</td></tr><tr><td>Education</td><td>6078265</td><td>146637269</td></tr></table>"
      ],
      "text/plain": [
       "<IPython.core.display.HTML object>"
      ]
     },
     "execution_count": 53,
     "metadata": {},
     "output_type": "execute_result"
    }
   ],
   "source": [
    "%%sparksql\n",
    "\n",
    "SELECT  category_name, \n",
    "        SUM(likes) total_like, \n",
    "        SUM(views) total_view \n",
    "FROM\n",
    "    (SELECT  ytb.video_id, \n",
    "            ytb.category_id,\n",
    "            ytb.publish_time,\n",
    "            ytb.likes, \n",
    "            ytb.views, \n",
    "            cat.category_name \n",
    "    FROM tbl_youtube AS ytb\n",
    "    LEFT JOIN tbl_youtube_category AS cat\n",
    "    ON ytb.category_id = cat.category_id\n",
    "    WHERE ytb.publish_time >= '2017-11-12')\n",
    "    \n",
    "GROUP BY category_name\n",
    "HAVING total_like > 5e6\n",
    "ORDER BY total_like DESC"
   ]
  },
  {
   "cell_type": "markdown",
   "id": "430361cc-eaaf-4deb-b33b-caab1723b25e",
   "metadata": {},
   "source": [
    "## 2.6. Functions\n",
    "```sql\n",
    "PI, RAND, LOG, SQRT, POW/POWER, CONCAT, CONCAT_WS, NVL, NVL2, REGEXP_REPLACE, REGEXP_EXTRACT, SPLIT, GREATEST, LEAST, LOWER/UPPER, LENGTH, NULLIF, LPAD/RPAD, LTRIM/RTRIM/TRIM, SUBSTR/SUBSTRING, CASE WHEN\n",
    "```\n",
    "\n",
    "*Reference: [Apache Hive - Built-in functions](https://cwiki.apache.org/confluence/display/hive/languagemanual+udf#LanguageManualUDF-Built-inFunctions)*"
   ]
  },
  {
   "cell_type": "markdown",
   "id": "9c08938d-44b4-4584-9170-a1d029b0244d",
   "metadata": {},
   "source": [
    "#### Numeric functions"
   ]
  },
  {
   "cell_type": "code",
   "execution_count": 77,
   "id": "ca210f2d-1e44-49a3-a045-c2041d5b892a",
   "metadata": {},
   "outputs": [
    {
     "data": {
      "text/html": [
       "<table><tr style=\"border-bottom: 1px solid\"><td style=\"font-weight: bold\">pi</td><td style=\"font-weight: bold\">log10</td><td style=\"font-weight: bold\">sqrt</td><td style=\"font-weight: bold\">pow</td></tr><tr><td>3.1416</td><td>3.32</td><td>5.0</td><td>100.0</td></tr></table>"
      ],
      "text/plain": [
       "<IPython.core.display.HTML object>"
      ]
     },
     "execution_count": 77,
     "metadata": {},
     "output_type": "execute_result"
    }
   ],
   "source": [
    "%%sparksql\n",
    "\n",
    "SELECT  ROUND(PI(),4) AS pi,\n",
    "        ROUND(LOG(2,10),2) AS log10,\n",
    "        SQRT(25) AS sqrt,\n",
    "        POW(10,2) AS pow"
   ]
  },
  {
   "cell_type": "code",
   "execution_count": 97,
   "id": "c9d9a74d-fc2c-4f68-8822-048f50f9ad7c",
   "metadata": {},
   "outputs": [
    {
     "data": {
      "text/html": [
       "<table><tr style=\"border-bottom: 1px solid\"><td style=\"font-weight: bold\">video_id</td><td style=\"font-weight: bold\">category_id</td><td style=\"font-weight: bold\">newid</td><td style=\"font-weight: bold\">category_id</td><td style=\"font-weight: bold\">length_title</td><td style=\"font-weight: bold\">group_like</td></tr><tr><td>2kyS6SvSYSE</td><td>22</td><td>2kyS6SvSYSE-22</td><td>22</td><td>12</td><td>group 3</td></tr><tr><td>1ZAPwfrtAFY</td><td>24</td><td>1ZAPwfrtAFY-24</td><td>24</td><td>15</td><td>group 3</td></tr><tr><td>5qpjK5DgCt4</td><td>23</td><td>5qpjK5DgCt4-23</td><td>23</td><td>12</td><td>group 3</td></tr><tr><td>puqaWrEC7tY</td><td>24</td><td>puqaWrEC7tY-24</td><td>24</td><td>21</td><td>group 1</td></tr><tr><td>d380meD0W0M</td><td>24</td><td>d380meD0W0M-24</td><td>24</td><td>8</td><td>group 3</td></tr></table>"
      ],
      "text/plain": [
       "<IPython.core.display.HTML object>"
      ]
     },
     "execution_count": 97,
     "metadata": {},
     "output_type": "execute_result"
    }
   ],
   "source": [
    "%%sparksql\n",
    "\n",
    "SELECT  video_id, category_id, CONCAT(video_id,'-',category_id) AS newid,\n",
    "        NVL(category_id, 0) AS category_id,\n",
    "        LENGTH(channel_title) AS length_title,\n",
    "        CASE WHEN likes <= 20000 THEN 'group 1'\n",
    "             WHEN likes > 20000 AND likes < 30000 THEN 'group 2'\n",
    "             ELSE 'group 3' END AS group_like\n",
    "FROM tbl_youtube\n",
    "LIMIT 5"
   ]
  },
  {
   "cell_type": "markdown",
   "id": "b48ccbf6-56ba-41e4-bfd0-c63bc3b0ca3b",
   "metadata": {},
   "source": [
    "#### Text functions"
   ]
  },
  {
   "cell_type": "code",
   "execution_count": 4,
   "id": "4cdef9f9-41d6-4dd5-b796-6c3eeff51b19",
   "metadata": {},
   "outputs": [
    {
     "data": {
      "text/html": [
       "<table><tr style=\"border-bottom: 1px solid\"></tr></table>"
      ],
      "text/plain": [
       "<IPython.core.display.HTML object>"
      ]
     },
     "execution_count": 4,
     "metadata": {},
     "output_type": "execute_result"
    }
   ],
   "source": [
    "%%sparksql\n",
    "\n",
    "CREATE EXTERNAL TABLE IF NOT EXISTS tbl_seafood\n",
    "STORED AS PARQUET\n",
    "LOCATION 'tbl_seafood'\n",
    "TBLPROPERTIES ('parquet.compression'='snappy')\n",
    "\n",
    "SELECT *\n",
    "FROM VALUES\n",
    "    ('2021-10-01', 'Shrimp, frozen, chem free', 26,'  usd/kg','54HPG', 'VN'),\n",
    "    ('2021-10-02', 'FISH, fresh, chemical-free', 25,'USD  /KG','9BGG', 'US'),\n",
    "    ('2021-10-03', 'Prawn, frz, chemical-free', 19, 'USD/ kg','23LSN', 'UK'),\n",
    "    ('2021-10-04', 'CraB, Frozen, chem free', 20, 'USD / kg','001HNI', 'NZL')\n",
    "AS (date, product, price, unit, code, country)"
   ]
  },
  {
   "cell_type": "code",
   "execution_count": 5,
   "id": "712d6883-792c-4a6e-b902-d7a719b3e6a9",
   "metadata": {},
   "outputs": [
    {
     "data": {
      "text/html": [
       "<table><tr style=\"border-bottom: 1px solid\"><td style=\"font-weight: bold\">date</td><td style=\"font-weight: bold\">product</td><td style=\"font-weight: bold\">price</td><td style=\"font-weight: bold\">unit</td><td style=\"font-weight: bold\">code</td><td style=\"font-weight: bold\">country</td></tr><tr><td>2021-10-04</td><td>CraB, Frozen, chem free</td><td>20</td><td>USD / kg</td><td>001HNI</td><td>NZL</td></tr><tr><td>2021-10-01</td><td>Shrimp, frozen, chem free</td><td>26</td><td>  usd/kg</td><td>54HPG</td><td>VN</td></tr><tr><td>2021-10-02</td><td>FISH, fresh, chemical-free</td><td>25</td><td>USD  /KG</td><td>9BGG</td><td>US</td></tr><tr><td>2021-10-03</td><td>Prawn, frz, chemical-free</td><td>19</td><td>USD/ kg</td><td>23LSN</td><td>UK</td></tr></table>"
      ],
      "text/plain": [
       "<IPython.core.display.HTML object>"
      ]
     },
     "execution_count": 5,
     "metadata": {},
     "output_type": "execute_result"
    }
   ],
   "source": [
    "%%sparksql\n",
    "\n",
    "SELECT * from tbl_seafood"
   ]
  },
  {
   "cell_type": "code",
   "execution_count": 59,
   "id": "bd9d65f7-6aa0-43fe-884a-e0204cdf3be6",
   "metadata": {},
   "outputs": [
    {
     "data": {
      "text/html": [
       "<table><tr style=\"border-bottom: 1px solid\"><td style=\"font-weight: bold\">date</td><td style=\"font-weight: bold\">product</td><td style=\"font-weight: bold\">price</td><td style=\"font-weight: bold\">unit</td><td style=\"font-weight: bold\">code</td><td style=\"font-weight: bold\">country</td><td style=\"font-weight: bold\">product_name</td><td style=\"font-weight: bold\">product_frz</td><td style=\"font-weight: bold\">product_chem</td><td style=\"font-weight: bold\">norm_code</td><td style=\"font-weight: bold\">norm_unit</td><td style=\"font-weight: bold\">norm_name</td><td style=\"font-weight: bold\">norm_frz</td><td style=\"font-weight: bold\">norm_chem</td><td style=\"font-weight: bold\">code_number</td><td style=\"font-weight: bold\">full_code</td><td style=\"font-weight: bold\">code_location</td></tr><tr><td>2021-10-04</td><td>CraB, Frozen, chem free</td><td>20</td><td>USD / kg</td><td>001HNI</td><td>NZL</td><td>CraB</td><td> Frozen</td><td> chem free</td><td>001HNI</td><td>USD/KG</td><td>crab</td><td> frozen</td><td>chemical-free</td><td>001</td><td>001HNI-NZL</td><td>HNI</td></tr><tr><td>2021-10-01</td><td>Shrimp, frozen, chem free</td><td>26</td><td>  usd/kg</td><td>54HPG</td><td>VN</td><td>Shrimp</td><td> frozen</td><td> chem free</td><td>054HPG</td><td>USD/KG</td><td>shrimp</td><td> frozen</td><td>chemical-free</td><td>054</td><td>054HPG-VN</td><td>HPG</td></tr><tr><td>2021-10-02</td><td>FISH, fresh, chemical-free</td><td>25</td><td>USD  /KG</td><td>9BGG</td><td>US</td><td>FISH</td><td> fresh</td><td> chemical-free</td><td>009BGG</td><td>USD/KG</td><td>fish</td><td> fresh</td><td> chemical-free</td><td>009</td><td>009BGG-US</td><td>BGG</td></tr><tr><td>2021-10-03</td><td>Prawn, frz, chemical-free</td><td>19</td><td>USD/ kg</td><td>23LSN</td><td>UK</td><td>Prawn</td><td> frz</td><td> chemical-free</td><td>023LSN</td><td>USD/KG</td><td>prawn</td><td> frozen</td><td> chemical-free</td><td>023</td><td>023LSN-UK</td><td>LSN</td></tr></table>"
      ],
      "text/plain": [
       "<IPython.core.display.HTML object>"
      ]
     },
     "execution_count": 59,
     "metadata": {},
     "output_type": "execute_result"
    }
   ],
   "source": [
    "%%sparksql\n",
    "\n",
    "SELECT *, \n",
    "        LOWER(product_name) AS norm_name,\n",
    "        REGEXP_REPLACE(LOWER(product_frz),'frz','frozen') AS norm_frz,\n",
    "        CASE WHEN product_chem LIKE '%chem free%' \n",
    "             THEN 'chemical-free' \n",
    "             ELSE product_chem END AS norm_chem,\n",
    "        SUBSTRING(norm_code,0,3) AS code_number,\n",
    "        CONCAT(norm_code, '-', country) AS full_code,\n",
    "        REGEXP_EXTRACT(norm_code, '[A-Z]+',0) AS code_location\n",
    "FROM\n",
    "    (SELECT *, \n",
    "            SPLIT(product,',')[0] AS product_name,\n",
    "            SPLIT(product,',')[1] AS product_frz,\n",
    "            SPLIT(product,',')[2] AS product_chem,\n",
    "            LPAD(code,6,0) AS norm_code,\n",
    "            REGEXP_REPLACE(UPPER(TRIM(unit)),' ','') AS norm_unit\n",
    "    FROM tbl_seafood)"
   ]
  },
  {
   "cell_type": "markdown",
   "id": "875f4ee4-59ee-4667-b2fc-64c4fec46791",
   "metadata": {},
   "source": [
    "# 3. Data structures"
   ]
  },
  {
   "cell_type": "markdown",
   "id": "1282a5b5-f70e-42db-88c0-04bbfa56ee19",
   "metadata": {},
   "source": [
    "## 3.1. Array type\n",
    "- Definition: same as Numpy's array\n",
    "- Schema: `ARRAY<STRING>`\n",
    "- Inserting: `ARRAY('hung', 'linh',...)`\n",
    "- Accessing: `A[1]`, start with 0\n",
    "- Techniques:\n",
    "    - Unpacking: `LATERAL VIEW, EXPLODE, POSEXPLODE, INLINE,...`\n",
    "    - Higher order functions: `TRANSFORM, FILTER, EXISTS, AGGREGATE` ([read more](https://databricks.com/blog/2017/05/24/working-with-nested-data-using-higher-order-functions-in-sql-on-databricks.html))\n",
    "    - Basic functions: `SIZE, ARRAY_CONTAINS, SORT_ARRAY, CONCAT_WS, SEQUENCE,...` (same as in pyspark)"
   ]
  },
  {
   "cell_type": "markdown",
   "id": "0a90da8b",
   "metadata": {},
   "source": [
    "##### Create array"
   ]
  },
  {
   "cell_type": "code",
   "execution_count": 4,
   "id": "ae17169d-472a-43db-98f1-e4afa4b3520d",
   "metadata": {},
   "outputs": [
    {
     "data": {
      "text/html": [
       "<table><tr style=\"border-bottom: 1px solid\"></tr></table>"
      ],
      "text/plain": [
       "<IPython.core.display.HTML object>"
      ]
     },
     "execution_count": 4,
     "metadata": {},
     "output_type": "execute_result"
    }
   ],
   "source": [
    "%%sparksql\n",
    "\n",
    "CREATE EXTERNAL TABLE IF NOT EXISTS tbl_movie\n",
    "STORED AS PARQUET\n",
    "LOCATION 'tbl_movie'\n",
    "TBLPROPERTIES ('parquet.compression'='snappy')\n",
    "\n",
    "SELECT *\n",
    "FROM VALUES\n",
    "    (1, 'Money heist', ARRAY('Monte','Corberó', 'Alonso'), 'criminal, sex, drama', 'Portuga', 4.8, 4.6),\n",
    "    (2, 'Stranger thing', ARRAY('Finn','Millie','Noah'), 'horror, science, drama, thriller', 'US', 4.9, 4.5),\n",
    "    (3, 'Hill house',  ARRAY('Victoria','Kate','Oliver'), 'horror, supernature','US', 4.7, 4.8),\n",
    "    (4, 'Squid game', ARRAY('jung-jae','Gong yoo','Ha-joon'), NULL, 'Korea', 4.6, 4.6)\n",
    "AS (id, name, actors, genre, country, idbm_rating, tomatoes_rating)"
   ]
  },
  {
   "cell_type": "code",
   "execution_count": 5,
   "id": "7d813230-de99-4f35-8546-5659419a1182",
   "metadata": {},
   "outputs": [
    {
     "data": {
      "text/html": [
       "<table><tr style=\"border-bottom: 1px solid\"><td style=\"font-weight: bold\">col_name</td><td style=\"font-weight: bold\">data_type</td><td style=\"font-weight: bold\">comment</td></tr><tr><td>id</td><td>int</td><td>null</td></tr><tr><td>name</td><td>string</td><td>null</td></tr><tr><td>actors</td><td>array&lt;string&gt;</td><td>null</td></tr><tr><td>genre</td><td>string</td><td>null</td></tr><tr><td>country</td><td>string</td><td>null</td></tr><tr><td>idbm_rating</td><td>decimal(2,1)</td><td>null</td></tr><tr><td>tomatoes_rating</td><td>decimal(2,1)</td><td>null</td></tr></table>"
      ],
      "text/plain": [
       "<IPython.core.display.HTML object>"
      ]
     },
     "execution_count": 5,
     "metadata": {},
     "output_type": "execute_result"
    }
   ],
   "source": [
    "%%sparksql\n",
    "\n",
    "DESC tbl_movie"
   ]
  },
  {
   "cell_type": "code",
   "execution_count": 6,
   "id": "6e793334-bb02-41da-a95f-344fba2eac43",
   "metadata": {},
   "outputs": [
    {
     "data": {
      "text/html": [
       "<table><tr style=\"border-bottom: 1px solid\"><td style=\"font-weight: bold\">id</td><td style=\"font-weight: bold\">name</td><td style=\"font-weight: bold\">actors</td><td style=\"font-weight: bold\">genre</td><td style=\"font-weight: bold\">country</td><td style=\"font-weight: bold\">idbm_rating</td><td style=\"font-weight: bold\">tomatoes_rating</td><td style=\"font-weight: bold\">group_genre</td><td style=\"font-weight: bold\">rating</td></tr><tr><td>1</td><td>Money heist</td><td>[&#x27;Monte&#x27;, &#x27;Corberó&#x27;, &#x27;Alonso&#x27;]</td><td>criminal, sex, drama</td><td>Portuga</td><td>4.8</td><td>4.6</td><td>[&#x27;criminal&#x27;, &#x27; sex&#x27;, &#x27; drama&#x27;]</td><td>[Decimal(&#x27;4.8&#x27;), Decimal(&#x27;4.6&#x27;)]</td></tr><tr><td>2</td><td>Stranger thing</td><td>[&#x27;Finn&#x27;, &#x27;Millie&#x27;, &#x27;Noah&#x27;]</td><td>horror, science, drama, thriller</td><td>US</td><td>4.9</td><td>4.5</td><td>[&#x27;horror&#x27;, &#x27; science&#x27;, &#x27; drama&#x27;, &#x27; thriller&#x27;]</td><td>[Decimal(&#x27;4.9&#x27;), Decimal(&#x27;4.5&#x27;)]</td></tr><tr><td>3</td><td>Hill house</td><td>[&#x27;Victoria&#x27;, &#x27;Kate&#x27;, &#x27;Oliver&#x27;]</td><td>horror, supernature</td><td>US</td><td>4.7</td><td>4.8</td><td>[&#x27;horror&#x27;, &#x27; supernature&#x27;]</td><td>[Decimal(&#x27;4.7&#x27;), Decimal(&#x27;4.8&#x27;)]</td></tr><tr><td>4</td><td>Squid game</td><td>[&#x27;jung-jae&#x27;, &#x27;Gong yoo&#x27;, &#x27;Ha-joon&#x27;]</td><td>null</td><td>Korea</td><td>4.6</td><td>4.6</td><td>null</td><td>[Decimal(&#x27;4.6&#x27;), Decimal(&#x27;4.6&#x27;)]</td></tr></table>"
      ],
      "text/plain": [
       "<IPython.core.display.HTML object>"
      ]
     },
     "execution_count": 6,
     "metadata": {},
     "output_type": "execute_result"
    }
   ],
   "source": [
    "%%sparksql\n",
    "SELECT *, \n",
    "SPLIT(genre,',') AS group_genre, \n",
    "ARRAY(idbm_rating, tomatoes_rating) as rating\n",
    "FROM tbl_movie"
   ]
  },
  {
   "cell_type": "markdown",
   "id": "f37a6a6c",
   "metadata": {},
   "source": [
    "##### Array manipulation"
   ]
  },
  {
   "cell_type": "code",
   "execution_count": 7,
   "id": "9d1379bb-52cc-42b9-8570-fd7e7ecbbc76",
   "metadata": {},
   "outputs": [
    {
     "data": {
      "text/html": [
       "<table><tr style=\"border-bottom: 1px solid\"><td style=\"font-weight: bold\">id</td><td style=\"font-weight: bold\">name</td><td style=\"font-weight: bold\">actors</td><td style=\"font-weight: bold\">genre</td><td style=\"font-weight: bold\">country</td><td style=\"font-weight: bold\">idbm_rating</td><td style=\"font-weight: bold\">tomatoes_rating</td><td style=\"font-weight: bold\">first_actor</td><td style=\"font-weight: bold\">second_actor</td><td style=\"font-weight: bold\">slice_array</td></tr><tr><td>1</td><td>Money heist</td><td>[&#x27;Monte&#x27;, &#x27;Corberó&#x27;, &#x27;Alonso&#x27;]</td><td>criminal, sex, drama</td><td>Portuga</td><td>4.8</td><td>4.6</td><td>Monte</td><td>Corberó</td><td>[&#x27;Monte&#x27;, &#x27;Corberó&#x27;]</td></tr><tr><td>2</td><td>Stranger thing</td><td>[&#x27;Finn&#x27;, &#x27;Millie&#x27;, &#x27;Noah&#x27;]</td><td>horror, science, drama, thriller</td><td>US</td><td>4.9</td><td>4.5</td><td>Finn</td><td>Millie</td><td>[&#x27;Finn&#x27;, &#x27;Millie&#x27;]</td></tr><tr><td>3</td><td>Hill house</td><td>[&#x27;Victoria&#x27;, &#x27;Kate&#x27;, &#x27;Oliver&#x27;]</td><td>horror, supernature</td><td>US</td><td>4.7</td><td>4.8</td><td>Victoria</td><td>Kate</td><td>[&#x27;Victoria&#x27;, &#x27;Kate&#x27;]</td></tr><tr><td>4</td><td>Squid game</td><td>[&#x27;jung-jae&#x27;, &#x27;Gong yoo&#x27;, &#x27;Ha-joon&#x27;]</td><td>null</td><td>Korea</td><td>4.6</td><td>4.6</td><td>jung-jae</td><td>Gong yoo</td><td>[&#x27;jung-jae&#x27;, &#x27;Gong yoo&#x27;]</td></tr></table>"
      ],
      "text/plain": [
       "<IPython.core.display.HTML object>"
      ]
     },
     "execution_count": 7,
     "metadata": {},
     "output_type": "execute_result"
    }
   ],
   "source": [
    "%%sparksql\n",
    "SELECT *, \n",
    "actors[0] AS first_actor, \n",
    "actors[1] AS second_actor,\n",
    "SLICE(actors, 1,2) AS slice_array\n",
    "FROM tbl_movie"
   ]
  },
  {
   "cell_type": "code",
   "execution_count": 8,
   "id": "45000b96-fb88-4beb-9e44-593d0f128d17",
   "metadata": {},
   "outputs": [
    {
     "data": {
      "text/html": [
       "<table><tr style=\"border-bottom: 1px solid\"><td style=\"font-weight: bold\">id</td><td style=\"font-weight: bold\">name</td><td style=\"font-weight: bold\">actors</td><td style=\"font-weight: bold\">genre</td><td style=\"font-weight: bold\">country</td><td style=\"font-weight: bold\">idbm_rating</td><td style=\"font-weight: bold\">tomatoes_rating</td><td style=\"font-weight: bold\">explode_actor</td></tr><tr><td>1</td><td>Money heist</td><td>[&#x27;Monte&#x27;, &#x27;Corberó&#x27;, &#x27;Alonso&#x27;]</td><td>criminal, sex, drama</td><td>Portuga</td><td>4.8</td><td>4.6</td><td>Monte</td></tr><tr><td>1</td><td>Money heist</td><td>[&#x27;Monte&#x27;, &#x27;Corberó&#x27;, &#x27;Alonso&#x27;]</td><td>criminal, sex, drama</td><td>Portuga</td><td>4.8</td><td>4.6</td><td>Corberó</td></tr><tr><td>1</td><td>Money heist</td><td>[&#x27;Monte&#x27;, &#x27;Corberó&#x27;, &#x27;Alonso&#x27;]</td><td>criminal, sex, drama</td><td>Portuga</td><td>4.8</td><td>4.6</td><td>Alonso</td></tr></table>"
      ],
      "text/plain": [
       "<IPython.core.display.HTML object>"
      ]
     },
     "execution_count": 8,
     "metadata": {},
     "output_type": "execute_result"
    }
   ],
   "source": [
    "%%sparksql\n",
    "select * from tbl_movie LATERAL VIEW EXPLODE(actors) AS explode_actor LIMIT 3"
   ]
  },
  {
   "cell_type": "code",
   "execution_count": 9,
   "id": "4e832619",
   "metadata": {},
   "outputs": [
    {
     "data": {
      "text/html": [
       "<table><tr style=\"border-bottom: 1px solid\"><td style=\"font-weight: bold\">id</td><td style=\"font-weight: bold\">name</td><td style=\"font-weight: bold\">actors</td><td style=\"font-weight: bold\">genre</td><td style=\"font-weight: bold\">country</td><td style=\"font-weight: bold\">idbm_rating</td><td style=\"font-weight: bold\">tomatoes_rating</td><td style=\"font-weight: bold\">explode_actor</td></tr><tr><td>1</td><td>Money heist</td><td>[&#x27;Monte&#x27;, &#x27;Corberó&#x27;, &#x27;Alonso&#x27;]</td><td>criminal, sex, drama</td><td>Portuga</td><td>4.8</td><td>4.6</td><td>Monte</td></tr><tr><td>1</td><td>Money heist</td><td>[&#x27;Monte&#x27;, &#x27;Corberó&#x27;, &#x27;Alonso&#x27;]</td><td>criminal, sex, drama</td><td>Portuga</td><td>4.8</td><td>4.6</td><td>Corberó</td></tr><tr><td>1</td><td>Money heist</td><td>[&#x27;Monte&#x27;, &#x27;Corberó&#x27;, &#x27;Alonso&#x27;]</td><td>criminal, sex, drama</td><td>Portuga</td><td>4.8</td><td>4.6</td><td>Alonso</td></tr></table>"
      ],
      "text/plain": [
       "<IPython.core.display.HTML object>"
      ]
     },
     "execution_count": 9,
     "metadata": {},
     "output_type": "execute_result"
    }
   ],
   "source": [
    "%%sparksql\n",
    "select *, EXPLODE(actors) AS explode_actor from tbl_movie LIMIT 3"
   ]
  },
  {
   "cell_type": "code",
   "execution_count": 10,
   "id": "1c4cb4c6",
   "metadata": {},
   "outputs": [
    {
     "data": {
      "text/html": [
       "<table><tr style=\"border-bottom: 1px solid\"><td style=\"font-weight: bold\">id</td><td style=\"font-weight: bold\">name</td><td style=\"font-weight: bold\">actors</td><td style=\"font-weight: bold\">genre</td><td style=\"font-weight: bold\">country</td><td style=\"font-weight: bold\">idbm_rating</td><td style=\"font-weight: bold\">tomatoes_rating</td><td style=\"font-weight: bold\">pos</td><td style=\"font-weight: bold\">name</td></tr><tr><td>1</td><td>Money heist</td><td>[&#x27;Monte&#x27;, &#x27;Corberó&#x27;, &#x27;Alonso&#x27;]</td><td>criminal, sex, drama</td><td>Portuga</td><td>4.8</td><td>4.6</td><td>0</td><td>Monte</td></tr><tr><td>1</td><td>Money heist</td><td>[&#x27;Monte&#x27;, &#x27;Corberó&#x27;, &#x27;Alonso&#x27;]</td><td>criminal, sex, drama</td><td>Portuga</td><td>4.8</td><td>4.6</td><td>1</td><td>Corberó</td></tr><tr><td>1</td><td>Money heist</td><td>[&#x27;Monte&#x27;, &#x27;Corberó&#x27;, &#x27;Alonso&#x27;]</td><td>criminal, sex, drama</td><td>Portuga</td><td>4.8</td><td>4.6</td><td>2</td><td>Alonso</td></tr></table>"
      ],
      "text/plain": [
       "<IPython.core.display.HTML object>"
      ]
     },
     "execution_count": 10,
     "metadata": {},
     "output_type": "execute_result"
    }
   ],
   "source": [
    "%%sparksql\n",
    "select *, POSEXPLODE(actors) AS (pos, name) from tbl_movie LIMIT 3"
   ]
  },
  {
   "cell_type": "code",
   "execution_count": 11,
   "id": "e62a2887",
   "metadata": {},
   "outputs": [
    {
     "data": {
      "text/html": [
       "<table><tr style=\"border-bottom: 1px solid\"><td style=\"font-weight: bold\">id</td><td style=\"font-weight: bold\">name</td><td style=\"font-weight: bold\">actors</td><td style=\"font-weight: bold\">genre</td><td style=\"font-weight: bold\">country</td><td style=\"font-weight: bold\">idbm_rating</td><td style=\"font-weight: bold\">tomatoes_rating</td><td style=\"font-weight: bold\">list_actors</td></tr><tr><td>1</td><td>Money heist</td><td>[&#x27;Monte&#x27;, &#x27;Corberó&#x27;, &#x27;Alonso&#x27;]</td><td>criminal, sex, drama</td><td>Portuga</td><td>4.8</td><td>4.6</td><td>Monte; Corberó; Alonso</td></tr><tr><td>2</td><td>Stranger thing</td><td>[&#x27;Finn&#x27;, &#x27;Millie&#x27;, &#x27;Noah&#x27;]</td><td>horror, science, drama, thriller</td><td>US</td><td>4.9</td><td>4.5</td><td>Finn; Millie; Noah</td></tr><tr><td>3</td><td>Hill house</td><td>[&#x27;Victoria&#x27;, &#x27;Kate&#x27;, &#x27;Oliver&#x27;]</td><td>horror, supernature</td><td>US</td><td>4.7</td><td>4.8</td><td>Victoria; Kate; Oliver</td></tr><tr><td>4</td><td>Squid game</td><td>[&#x27;jung-jae&#x27;, &#x27;Gong yoo&#x27;, &#x27;Ha-joon&#x27;]</td><td>null</td><td>Korea</td><td>4.6</td><td>4.6</td><td>jung-jae; Gong yoo; Ha-joon</td></tr></table>"
      ],
      "text/plain": [
       "<IPython.core.display.HTML object>"
      ]
     },
     "execution_count": 11,
     "metadata": {},
     "output_type": "execute_result"
    }
   ],
   "source": [
    "%%sparksql\n",
    "select *, ARRAY_JOIN(actors, \"; \") AS list_actors from tbl_movie"
   ]
  },
  {
   "cell_type": "code",
   "execution_count": 12,
   "id": "23d7330d",
   "metadata": {
    "scrolled": true
   },
   "outputs": [
    {
     "data": {
      "text/html": [
       "<table><tr style=\"border-bottom: 1px solid\"><td style=\"font-weight: bold\">id</td><td style=\"font-weight: bold\">name</td><td style=\"font-weight: bold\">actors</td><td style=\"font-weight: bold\">genre</td><td style=\"font-weight: bold\">country</td><td style=\"font-weight: bold\">idbm_rating</td><td style=\"font-weight: bold\">tomatoes_rating</td><td style=\"font-weight: bold\">filter_array</td><td style=\"font-weight: bold\">concat_array</td><td style=\"font-weight: bold\">intersect</td><td style=\"font-weight: bold\">union</td><td style=\"font-weight: bold\">shuffer</td><td style=\"font-weight: bold\">sorted_array</td><td style=\"font-weight: bold\">array_max</td><td style=\"font-weight: bold\">array_min</td><td style=\"font-weight: bold\">distinct_array</td></tr><tr><td>1</td><td>Money heist</td><td>[&#x27;Monte&#x27;, &#x27;Corberó&#x27;, &#x27;Alonso&#x27;]</td><td>criminal, sex, drama</td><td>Portuga</td><td>4.8</td><td>4.6</td><td>[]</td><td>[&#x27;Monte&#x27;, &#x27;Corberó&#x27;, &#x27;Alonso&#x27;]</td><td>[]</td><td>[&#x27;Monte&#x27;, &#x27;Corberó&#x27;, &#x27;Alonso&#x27;]</td><td>[&#x27;Corberó&#x27;, &#x27;Monte&#x27;, &#x27;Alonso&#x27;]</td><td>[&#x27;Alonso&#x27;, &#x27;Corberó&#x27;, &#x27;Monte&#x27;]</td><td>Monte</td><td>Alonso</td><td>[&#x27;Monte&#x27;, &#x27;Corberó&#x27;, &#x27;Alonso&#x27;]</td></tr><tr><td>2</td><td>Stranger thing</td><td>[&#x27;Finn&#x27;, &#x27;Millie&#x27;, &#x27;Noah&#x27;]</td><td>horror, science, drama, thriller</td><td>US</td><td>4.9</td><td>4.5</td><td>[]</td><td>[&#x27;Finn&#x27;, &#x27;Millie&#x27;, &#x27;Noah&#x27;]</td><td>[]</td><td>[&#x27;Finn&#x27;, &#x27;Millie&#x27;, &#x27;Noah&#x27;]</td><td>[&#x27;Noah&#x27;, &#x27;Millie&#x27;, &#x27;Finn&#x27;]</td><td>[&#x27;Finn&#x27;, &#x27;Millie&#x27;, &#x27;Noah&#x27;]</td><td>Noah</td><td>Finn</td><td>[&#x27;Finn&#x27;, &#x27;Millie&#x27;, &#x27;Noah&#x27;]</td></tr><tr><td>3</td><td>Hill house</td><td>[&#x27;Victoria&#x27;, &#x27;Kate&#x27;, &#x27;Oliver&#x27;]</td><td>horror, supernature</td><td>US</td><td>4.7</td><td>4.8</td><td>[]</td><td>[&#x27;Victoria&#x27;, &#x27;Kate&#x27;, &#x27;Oliver&#x27;]</td><td>[]</td><td>[&#x27;Victoria&#x27;, &#x27;Kate&#x27;, &#x27;Oliver&#x27;]</td><td>[&#x27;Oliver&#x27;, &#x27;Victoria&#x27;, &#x27;Kate&#x27;]</td><td>[&#x27;Kate&#x27;, &#x27;Oliver&#x27;, &#x27;Victoria&#x27;]</td><td>Victoria</td><td>Kate</td><td>[&#x27;Victoria&#x27;, &#x27;Kate&#x27;, &#x27;Oliver&#x27;]</td></tr><tr><td>4</td><td>Squid game</td><td>[&#x27;jung-jae&#x27;, &#x27;Gong yoo&#x27;, &#x27;Ha-joon&#x27;]</td><td>null</td><td>Korea</td><td>4.6</td><td>4.6</td><td>[&#x27;Gong yoo&#x27;, &#x27;Ha-joon&#x27;]</td><td>[&#x27;jung-jae&#x27;, &#x27;Gong yoo&#x27;, &#x27;Ha-joon&#x27;, &#x27;Gong yoo&#x27;, &#x27;Ha-joon&#x27;]</td><td>[&#x27;Gong yoo&#x27;, &#x27;Ha-joon&#x27;]</td><td>[&#x27;jung-jae&#x27;, &#x27;Gong yoo&#x27;, &#x27;Ha-joon&#x27;]</td><td>[&#x27;Ha-joon&#x27;, &#x27;Gong yoo&#x27;, &#x27;jung-jae&#x27;]</td><td>[&#x27;Gong yoo&#x27;, &#x27;Ha-joon&#x27;, &#x27;jung-jae&#x27;]</td><td>jung-jae</td><td>Gong yoo</td><td>[&#x27;jung-jae&#x27;, &#x27;Gong yoo&#x27;, &#x27;Ha-joon&#x27;]</td></tr></table>"
      ],
      "text/plain": [
       "<IPython.core.display.HTML object>"
      ]
     },
     "execution_count": 12,
     "metadata": {},
     "output_type": "execute_result"
    }
   ],
   "source": [
    "%%sparksql\n",
    "\n",
    "SELECT *, \n",
    "FILTER(actors, x -> x like '%oo%') AS filter_array,\n",
    "CONCAT(actors, FILTER(actors, x -> x like '%oo%')) AS concat_array,\n",
    "ARRAY_INTERSECT(actors, FILTER(actors, x -> x like '%oo%')) AS intersect,\n",
    "ARRAY_UNION(actors, FILTER(actors, x -> x like '%oo%')) AS union,\n",
    "SHUFFLE(actors) AS shuffer,\n",
    "ARRAY_SORT(actors) AS sorted_array,\n",
    "ARRAY_MAX(actors) AS array_max,\n",
    "ARRAY_MIN(actors) AS array_min,\n",
    "ARRAY_DISTINCT(actors) AS distinct_array\n",
    "FROM tbl_movie\n",
    "\n",
    "  "
   ]
  },
  {
   "cell_type": "code",
   "execution_count": 30,
   "id": "2010cb30",
   "metadata": {},
   "outputs": [
    {
     "data": {
      "text/html": [
       "<table><tr style=\"border-bottom: 1px solid\"><td style=\"font-weight: bold\">id</td><td style=\"font-weight: bold\">name</td><td style=\"font-weight: bold\">actors</td><td style=\"font-weight: bold\">genre</td><td style=\"font-weight: bold\">country</td><td style=\"font-weight: bold\">idbm_rating</td><td style=\"font-weight: bold\">tomatoes_rating</td><td style=\"font-weight: bold\">actor_ss1</td><td style=\"font-weight: bold\">actor_filter</td></tr><tr><td>1</td><td>Money heist</td><td>[&#x27;Monte&#x27;, &#x27;Corberó&#x27;, &#x27;Alonso&#x27;]</td><td>criminal, sex, drama</td><td>Portuga</td><td>4.8</td><td>4.6</td><td>[&#x27;Monte-ss1&#x27;, &#x27;Corberó-ss1&#x27;, &#x27;Alonso-ss1&#x27;]</td><td>False</td></tr><tr><td>2</td><td>Stranger thing</td><td>[&#x27;Finn&#x27;, &#x27;Millie&#x27;, &#x27;Noah&#x27;]</td><td>horror, science, drama, thriller</td><td>US</td><td>4.9</td><td>4.5</td><td>[&#x27;Finn-ss1&#x27;, &#x27;Millie-ss1&#x27;, &#x27;Noah-ss1&#x27;]</td><td>False</td></tr><tr><td>3</td><td>Hill house</td><td>[&#x27;Victoria&#x27;, &#x27;Kate&#x27;, &#x27;Oliver&#x27;]</td><td>horror, supernature</td><td>US</td><td>4.7</td><td>4.8</td><td>[&#x27;Victoria-ss1&#x27;, &#x27;Kate-ss1&#x27;, &#x27;Oliver-ss1&#x27;]</td><td>True</td></tr><tr><td>4</td><td>Squid game</td><td>[&#x27;jung-jae&#x27;, &#x27;Gong yoo&#x27;, &#x27;Ha-joon&#x27;]</td><td>null</td><td>Korea</td><td>4.6</td><td>4.6</td><td>[&#x27;jung-jae-ss1&#x27;, &#x27;Gong yoo-ss1&#x27;, &#x27;Ha-joon-ss1&#x27;]</td><td>True</td></tr></table>"
      ],
      "text/plain": [
       "<IPython.core.display.HTML object>"
      ]
     },
     "execution_count": 30,
     "metadata": {},
     "output_type": "execute_result"
    }
   ],
   "source": [
    "%%sparksql\n",
    "\n",
    "SELECT *,\n",
    "TRANSFORM(actors, actors -> CONCAT(actors,'-ss1')) as actor_ss1,\n",
    "EXISTS(actors, actors -> length(actors) > 7) as actor_filter\n",
    "FROM tbl_movie"
   ]
  },
  {
   "cell_type": "markdown",
   "id": "9d6c9fc8-0dc5-4f5d-9400-b709f2cf41b0",
   "metadata": {},
   "source": [
    "## 3.2. Struct type\n",
    "- Definition: two or more arrays zipped together\n",
    "- Schema: `ARRAY<STRUCT<id:INT, name:STRING, interest:STRING>>`\n",
    "- Inserting: `ARRAY(STRUCT(0, 'hung', 'buom'), STRUCT(1, 'linh', 'chim'))`\n",
    "- Accessing: `S.id, S.name, S.interest`\n",
    "- Techniques: `ARRAYS_ZIP`"
   ]
  },
  {
   "cell_type": "code",
   "execution_count": null,
   "id": "daada8af",
   "metadata": {},
   "outputs": [],
   "source": []
  },
  {
   "cell_type": "code",
   "execution_count": null,
   "id": "596c2681",
   "metadata": {},
   "outputs": [],
   "source": []
  },
  {
   "cell_type": "markdown",
   "id": "c8fc3481-0f10-4a73-9654-83d2e88babcf",
   "metadata": {},
   "source": [
    "## 3.3. Map type\n",
    "- Definition: same as Python's dict\n",
    "- Schema: `MAP<STRING, STRING>`\n",
    "- Inserting: `MAP('0', 'hung', '1', 'linh')`\n",
    "- Accessing: `M['0']`\n",
    "- Techniques:\n",
    "    - `LATERAL VIEW, EXPLODE, POSEEXPLODE, INLINE,...`\n",
    "    - `MAP_KEYS, MAP_VALUES, STR_TO_MAP`\n",
    "    - `GET_JSON_OBJECT`"
   ]
  }
 ],
 "metadata": {
  "kernelspec": {
   "display_name": "Python 3",
   "language": "python",
   "name": "python3"
  },
  "language_info": {
   "codemirror_mode": {
    "name": "ipython",
    "version": 3
   },
   "file_extension": ".py",
   "mimetype": "text/x-python",
   "name": "python",
   "nbconvert_exporter": "python",
   "pygments_lexer": "ipython3",
   "version": "3.6.13"
  }
 },
 "nbformat": 4,
 "nbformat_minor": 5
}
